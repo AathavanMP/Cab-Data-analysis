{
 "cells": [
  {
   "cell_type": "markdown",
   "id": "63f46c50",
   "metadata": {},
   "source": [
    "# Cab  Data Analysis"
   ]
  },
  {
   "cell_type": "markdown",
   "id": "1aa391c0",
   "metadata": {},
   "source": [
    "### Importing all libraries"
   ]
  },
  {
   "cell_type": "code",
   "execution_count": 32,
   "id": "d6023965",
   "metadata": {},
   "outputs": [],
   "source": [
    "import pandas as pd\n",
    "import numpy as np\n",
    "import matplotlib.pyplot as plt\n",
    "import seaborn as sns\n",
    "%matplotlib inline"
   ]
  },
  {
   "cell_type": "markdown",
   "id": "299e4847",
   "metadata": {},
   "source": [
    "### Importing dataset :"
   ]
  },
  {
   "cell_type": "code",
   "execution_count": 33,
   "id": "db0d711e",
   "metadata": {},
   "outputs": [],
   "source": [
    "cab_data = pd.read_csv('Cab_data.csv')\n",
    "city = pd.read_csv('City.csv')\n",
    "customer_id = pd.read_csv('Customer_Id.csv')\n",
    "transaction_id = pd.read_csv('Transaction_Id.csv')"
   ]
  },
  {
   "cell_type": "code",
   "execution_count": 34,
   "id": "a6fe3e40",
   "metadata": {},
   "outputs": [
    {
     "data": {
      "text/html": [
       "<div>\n",
       "<style scoped>\n",
       "    .dataframe tbody tr th:only-of-type {\n",
       "        vertical-align: middle;\n",
       "    }\n",
       "\n",
       "    .dataframe tbody tr th {\n",
       "        vertical-align: top;\n",
       "    }\n",
       "\n",
       "    .dataframe thead th {\n",
       "        text-align: right;\n",
       "    }\n",
       "</style>\n",
       "<table border=\"1\" class=\"dataframe\">\n",
       "  <thead>\n",
       "    <tr style=\"text-align: right;\">\n",
       "      <th></th>\n",
       "      <th>Transaction ID</th>\n",
       "      <th>Date of Travel</th>\n",
       "      <th>Company</th>\n",
       "      <th>City</th>\n",
       "      <th>KM Travelled</th>\n",
       "      <th>Price Charged</th>\n",
       "      <th>Cost of Trip</th>\n",
       "    </tr>\n",
       "  </thead>\n",
       "  <tbody>\n",
       "    <tr>\n",
       "      <th>0</th>\n",
       "      <td>10000011</td>\n",
       "      <td>42377</td>\n",
       "      <td>Pink Cab</td>\n",
       "      <td>ATLANTA GA</td>\n",
       "      <td>30.45</td>\n",
       "      <td>370.95</td>\n",
       "      <td>313.635</td>\n",
       "    </tr>\n",
       "    <tr>\n",
       "      <th>1</th>\n",
       "      <td>10000012</td>\n",
       "      <td>42375</td>\n",
       "      <td>Pink Cab</td>\n",
       "      <td>ATLANTA GA</td>\n",
       "      <td>28.62</td>\n",
       "      <td>358.52</td>\n",
       "      <td>334.854</td>\n",
       "    </tr>\n",
       "    <tr>\n",
       "      <th>2</th>\n",
       "      <td>10000013</td>\n",
       "      <td>42371</td>\n",
       "      <td>Pink Cab</td>\n",
       "      <td>ATLANTA GA</td>\n",
       "      <td>9.04</td>\n",
       "      <td>125.20</td>\n",
       "      <td>97.632</td>\n",
       "    </tr>\n",
       "    <tr>\n",
       "      <th>3</th>\n",
       "      <td>10000014</td>\n",
       "      <td>42376</td>\n",
       "      <td>Pink Cab</td>\n",
       "      <td>ATLANTA GA</td>\n",
       "      <td>33.17</td>\n",
       "      <td>377.40</td>\n",
       "      <td>351.602</td>\n",
       "    </tr>\n",
       "    <tr>\n",
       "      <th>4</th>\n",
       "      <td>10000015</td>\n",
       "      <td>42372</td>\n",
       "      <td>Pink Cab</td>\n",
       "      <td>ATLANTA GA</td>\n",
       "      <td>8.73</td>\n",
       "      <td>114.62</td>\n",
       "      <td>97.776</td>\n",
       "    </tr>\n",
       "  </tbody>\n",
       "</table>\n",
       "</div>"
      ],
      "text/plain": [
       "   Transaction ID  Date of Travel   Company        City  KM Travelled  \\\n",
       "0        10000011           42377  Pink Cab  ATLANTA GA         30.45   \n",
       "1        10000012           42375  Pink Cab  ATLANTA GA         28.62   \n",
       "2        10000013           42371  Pink Cab  ATLANTA GA          9.04   \n",
       "3        10000014           42376  Pink Cab  ATLANTA GA         33.17   \n",
       "4        10000015           42372  Pink Cab  ATLANTA GA          8.73   \n",
       "\n",
       "   Price Charged  Cost of Trip  \n",
       "0         370.95       313.635  \n",
       "1         358.52       334.854  \n",
       "2         125.20        97.632  \n",
       "3         377.40       351.602  \n",
       "4         114.62        97.776  "
      ]
     },
     "execution_count": 34,
     "metadata": {},
     "output_type": "execute_result"
    }
   ],
   "source": [
    "cab_data.head()"
   ]
  },
  {
   "cell_type": "code",
   "execution_count": 35,
   "id": "3da9535f",
   "metadata": {},
   "outputs": [
    {
     "data": {
      "text/plain": [
       "(1998, 7)"
      ]
     },
     "execution_count": 35,
     "metadata": {},
     "output_type": "execute_result"
    }
   ],
   "source": [
    "cab_data.shape"
   ]
  },
  {
   "cell_type": "code",
   "execution_count": 36,
   "id": "91a3ce6e",
   "metadata": {},
   "outputs": [
    {
     "data": {
      "text/html": [
       "<div>\n",
       "<style scoped>\n",
       "    .dataframe tbody tr th:only-of-type {\n",
       "        vertical-align: middle;\n",
       "    }\n",
       "\n",
       "    .dataframe tbody tr th {\n",
       "        vertical-align: top;\n",
       "    }\n",
       "\n",
       "    .dataframe thead th {\n",
       "        text-align: right;\n",
       "    }\n",
       "</style>\n",
       "<table border=\"1\" class=\"dataframe\">\n",
       "  <thead>\n",
       "    <tr style=\"text-align: right;\">\n",
       "      <th></th>\n",
       "      <th>City</th>\n",
       "      <th>Population</th>\n",
       "      <th>Users</th>\n",
       "    </tr>\n",
       "  </thead>\n",
       "  <tbody>\n",
       "    <tr>\n",
       "      <th>0</th>\n",
       "      <td>NEW YORK NY</td>\n",
       "      <td>8,405,837</td>\n",
       "      <td>302,149</td>\n",
       "    </tr>\n",
       "    <tr>\n",
       "      <th>1</th>\n",
       "      <td>CHICAGO IL</td>\n",
       "      <td>1,955,130</td>\n",
       "      <td>164,468</td>\n",
       "    </tr>\n",
       "    <tr>\n",
       "      <th>2</th>\n",
       "      <td>LOS ANGELES CA</td>\n",
       "      <td>1,595,037</td>\n",
       "      <td>144,132</td>\n",
       "    </tr>\n",
       "    <tr>\n",
       "      <th>3</th>\n",
       "      <td>MIAMI FL</td>\n",
       "      <td>1,339,155</td>\n",
       "      <td>17,675</td>\n",
       "    </tr>\n",
       "    <tr>\n",
       "      <th>4</th>\n",
       "      <td>SILICON VALLEY</td>\n",
       "      <td>1,177,609</td>\n",
       "      <td>27,247</td>\n",
       "    </tr>\n",
       "  </tbody>\n",
       "</table>\n",
       "</div>"
      ],
      "text/plain": [
       "             City   Population      Users\n",
       "0     NEW YORK NY   8,405,837    302,149 \n",
       "1      CHICAGO IL   1,955,130    164,468 \n",
       "2  LOS ANGELES CA   1,595,037    144,132 \n",
       "3        MIAMI FL   1,339,155     17,675 \n",
       "4  SILICON VALLEY   1,177,609     27,247 "
      ]
     },
     "execution_count": 36,
     "metadata": {},
     "output_type": "execute_result"
    }
   ],
   "source": [
    "city.head()"
   ]
  },
  {
   "cell_type": "code",
   "execution_count": 37,
   "id": "3fd289a1",
   "metadata": {},
   "outputs": [
    {
     "data": {
      "text/plain": [
       "(20, 3)"
      ]
     },
     "execution_count": 37,
     "metadata": {},
     "output_type": "execute_result"
    }
   ],
   "source": [
    "city.shape"
   ]
  },
  {
   "cell_type": "code",
   "execution_count": 38,
   "id": "edff493a",
   "metadata": {},
   "outputs": [
    {
     "data": {
      "text/html": [
       "<div>\n",
       "<style scoped>\n",
       "    .dataframe tbody tr th:only-of-type {\n",
       "        vertical-align: middle;\n",
       "    }\n",
       "\n",
       "    .dataframe tbody tr th {\n",
       "        vertical-align: top;\n",
       "    }\n",
       "\n",
       "    .dataframe thead th {\n",
       "        text-align: right;\n",
       "    }\n",
       "</style>\n",
       "<table border=\"1\" class=\"dataframe\">\n",
       "  <thead>\n",
       "    <tr style=\"text-align: right;\">\n",
       "      <th></th>\n",
       "      <th>Customer ID</th>\n",
       "      <th>Gender</th>\n",
       "      <th>Age</th>\n",
       "      <th>Income (USD/Month)</th>\n",
       "    </tr>\n",
       "  </thead>\n",
       "  <tbody>\n",
       "    <tr>\n",
       "      <th>0</th>\n",
       "      <td>29290</td>\n",
       "      <td>Male</td>\n",
       "      <td>28</td>\n",
       "      <td>10813</td>\n",
       "    </tr>\n",
       "    <tr>\n",
       "      <th>1</th>\n",
       "      <td>27703</td>\n",
       "      <td>Male</td>\n",
       "      <td>27</td>\n",
       "      <td>9237</td>\n",
       "    </tr>\n",
       "    <tr>\n",
       "      <th>2</th>\n",
       "      <td>28712</td>\n",
       "      <td>Male</td>\n",
       "      <td>53</td>\n",
       "      <td>11242</td>\n",
       "    </tr>\n",
       "    <tr>\n",
       "      <th>3</th>\n",
       "      <td>28020</td>\n",
       "      <td>Male</td>\n",
       "      <td>23</td>\n",
       "      <td>23327</td>\n",
       "    </tr>\n",
       "    <tr>\n",
       "      <th>4</th>\n",
       "      <td>27182</td>\n",
       "      <td>Male</td>\n",
       "      <td>33</td>\n",
       "      <td>8536</td>\n",
       "    </tr>\n",
       "  </tbody>\n",
       "</table>\n",
       "</div>"
      ],
      "text/plain": [
       "   Customer ID Gender  Age  Income (USD/Month)\n",
       "0        29290   Male   28               10813\n",
       "1        27703   Male   27                9237\n",
       "2        28712   Male   53               11242\n",
       "3        28020   Male   23               23327\n",
       "4        27182   Male   33                8536"
      ]
     },
     "execution_count": 38,
     "metadata": {},
     "output_type": "execute_result"
    }
   ],
   "source": [
    "customer_id.head()"
   ]
  },
  {
   "cell_type": "code",
   "execution_count": 39,
   "id": "3291dd55",
   "metadata": {},
   "outputs": [
    {
     "data": {
      "text/plain": [
       "Male      26562\n",
       "Female    22609\n",
       "Name: Gender, dtype: int64"
      ]
     },
     "execution_count": 39,
     "metadata": {},
     "output_type": "execute_result"
    }
   ],
   "source": [
    "customer_id['Gender'].value_counts()"
   ]
  },
  {
   "cell_type": "code",
   "execution_count": 40,
   "id": "8add00b0",
   "metadata": {},
   "outputs": [
    {
     "data": {
      "text/plain": [
       "(49171, 4)"
      ]
     },
     "execution_count": 40,
     "metadata": {},
     "output_type": "execute_result"
    }
   ],
   "source": [
    "customer_id.shape"
   ]
  },
  {
   "cell_type": "code",
   "execution_count": 41,
   "id": "c7c05e82",
   "metadata": {},
   "outputs": [
    {
     "data": {
      "text/html": [
       "<div>\n",
       "<style scoped>\n",
       "    .dataframe tbody tr th:only-of-type {\n",
       "        vertical-align: middle;\n",
       "    }\n",
       "\n",
       "    .dataframe tbody tr th {\n",
       "        vertical-align: top;\n",
       "    }\n",
       "\n",
       "    .dataframe thead th {\n",
       "        text-align: right;\n",
       "    }\n",
       "</style>\n",
       "<table border=\"1\" class=\"dataframe\">\n",
       "  <thead>\n",
       "    <tr style=\"text-align: right;\">\n",
       "      <th></th>\n",
       "      <th>Transaction ID</th>\n",
       "      <th>Customer ID</th>\n",
       "      <th>Payment_Mode</th>\n",
       "    </tr>\n",
       "  </thead>\n",
       "  <tbody>\n",
       "    <tr>\n",
       "      <th>0</th>\n",
       "      <td>10000011</td>\n",
       "      <td>29290</td>\n",
       "      <td>Card</td>\n",
       "    </tr>\n",
       "    <tr>\n",
       "      <th>1</th>\n",
       "      <td>10000012</td>\n",
       "      <td>27703</td>\n",
       "      <td>Card</td>\n",
       "    </tr>\n",
       "    <tr>\n",
       "      <th>2</th>\n",
       "      <td>10000013</td>\n",
       "      <td>28712</td>\n",
       "      <td>Cash</td>\n",
       "    </tr>\n",
       "    <tr>\n",
       "      <th>3</th>\n",
       "      <td>10000014</td>\n",
       "      <td>28020</td>\n",
       "      <td>Cash</td>\n",
       "    </tr>\n",
       "    <tr>\n",
       "      <th>4</th>\n",
       "      <td>10000015</td>\n",
       "      <td>27182</td>\n",
       "      <td>Card</td>\n",
       "    </tr>\n",
       "  </tbody>\n",
       "</table>\n",
       "</div>"
      ],
      "text/plain": [
       "   Transaction ID  Customer ID Payment_Mode\n",
       "0        10000011        29290         Card\n",
       "1        10000012        27703         Card\n",
       "2        10000013        28712         Cash\n",
       "3        10000014        28020         Cash\n",
       "4        10000015        27182         Card"
      ]
     },
     "execution_count": 41,
     "metadata": {},
     "output_type": "execute_result"
    }
   ],
   "source": [
    "transaction_id.head()"
   ]
  },
  {
   "cell_type": "code",
   "execution_count": 42,
   "id": "d5b3c69e",
   "metadata": {},
   "outputs": [
    {
     "data": {
      "text/plain": [
       "(1999, 3)"
      ]
     },
     "execution_count": 42,
     "metadata": {},
     "output_type": "execute_result"
    }
   ],
   "source": [
    "transaction_id.shape"
   ]
  },
  {
   "cell_type": "code",
   "execution_count": 43,
   "id": "16bba607",
   "metadata": {},
   "outputs": [],
   "source": [
    "## merging all data:\n",
    "\n",
    "merge1 = customer_id.merge(transaction_id, on = \"Customer ID\")\n",
    "merge2 = merge1.merge(cab_data, on = \"Transaction ID\")\n",
    "merge3 = merge2.merge(city, on = \"City\")"
   ]
  },
  {
   "cell_type": "code",
   "execution_count": 44,
   "id": "7f987779",
   "metadata": {},
   "outputs": [
    {
     "data": {
      "text/plain": [
       "(1999, 6)"
      ]
     },
     "execution_count": 44,
     "metadata": {},
     "output_type": "execute_result"
    }
   ],
   "source": [
    "merge1.shape"
   ]
  },
  {
   "cell_type": "code",
   "execution_count": 45,
   "id": "34881e07",
   "metadata": {},
   "outputs": [
    {
     "data": {
      "text/plain": [
       "(1558, 12)"
      ]
     },
     "execution_count": 45,
     "metadata": {},
     "output_type": "execute_result"
    }
   ],
   "source": [
    "merge2.shape"
   ]
  },
  {
   "cell_type": "code",
   "execution_count": 46,
   "id": "326fa27b",
   "metadata": {},
   "outputs": [
    {
     "data": {
      "text/plain": [
       "(1558, 14)"
      ]
     },
     "execution_count": 46,
     "metadata": {},
     "output_type": "execute_result"
    }
   ],
   "source": [
    "merge3.shape"
   ]
  },
  {
   "cell_type": "code",
   "execution_count": 47,
   "id": "d6499222",
   "metadata": {},
   "outputs": [],
   "source": [
    "data = merge3.copy()"
   ]
  },
  {
   "cell_type": "code",
   "execution_count": 48,
   "id": "72f08419",
   "metadata": {},
   "outputs": [
    {
     "data": {
      "text/html": [
       "<div>\n",
       "<style scoped>\n",
       "    .dataframe tbody tr th:only-of-type {\n",
       "        vertical-align: middle;\n",
       "    }\n",
       "\n",
       "    .dataframe tbody tr th {\n",
       "        vertical-align: top;\n",
       "    }\n",
       "\n",
       "    .dataframe thead th {\n",
       "        text-align: right;\n",
       "    }\n",
       "</style>\n",
       "<table border=\"1\" class=\"dataframe\">\n",
       "  <thead>\n",
       "    <tr style=\"text-align: right;\">\n",
       "      <th></th>\n",
       "      <th>Customer ID</th>\n",
       "      <th>Gender</th>\n",
       "      <th>Age</th>\n",
       "      <th>Income (USD/Month)</th>\n",
       "      <th>Transaction ID</th>\n",
       "      <th>Payment_Mode</th>\n",
       "      <th>Date of Travel</th>\n",
       "      <th>Company</th>\n",
       "      <th>City</th>\n",
       "      <th>KM Travelled</th>\n",
       "      <th>Price Charged</th>\n",
       "      <th>Cost of Trip</th>\n",
       "      <th>Population</th>\n",
       "      <th>Users</th>\n",
       "    </tr>\n",
       "  </thead>\n",
       "  <tbody>\n",
       "    <tr>\n",
       "      <th>0</th>\n",
       "      <td>29290</td>\n",
       "      <td>Male</td>\n",
       "      <td>28</td>\n",
       "      <td>10813</td>\n",
       "      <td>10000011</td>\n",
       "      <td>Card</td>\n",
       "      <td>42377</td>\n",
       "      <td>Pink Cab</td>\n",
       "      <td>ATLANTA GA</td>\n",
       "      <td>30.45</td>\n",
       "      <td>370.95</td>\n",
       "      <td>313.635</td>\n",
       "      <td>814,885</td>\n",
       "      <td>24,701</td>\n",
       "    </tr>\n",
       "    <tr>\n",
       "      <th>1</th>\n",
       "      <td>27703</td>\n",
       "      <td>Male</td>\n",
       "      <td>27</td>\n",
       "      <td>9237</td>\n",
       "      <td>10000012</td>\n",
       "      <td>Card</td>\n",
       "      <td>42375</td>\n",
       "      <td>Pink Cab</td>\n",
       "      <td>ATLANTA GA</td>\n",
       "      <td>28.62</td>\n",
       "      <td>358.52</td>\n",
       "      <td>334.854</td>\n",
       "      <td>814,885</td>\n",
       "      <td>24,701</td>\n",
       "    </tr>\n",
       "    <tr>\n",
       "      <th>2</th>\n",
       "      <td>28712</td>\n",
       "      <td>Male</td>\n",
       "      <td>53</td>\n",
       "      <td>11242</td>\n",
       "      <td>10000013</td>\n",
       "      <td>Cash</td>\n",
       "      <td>42371</td>\n",
       "      <td>Pink Cab</td>\n",
       "      <td>ATLANTA GA</td>\n",
       "      <td>9.04</td>\n",
       "      <td>125.20</td>\n",
       "      <td>97.632</td>\n",
       "      <td>814,885</td>\n",
       "      <td>24,701</td>\n",
       "    </tr>\n",
       "    <tr>\n",
       "      <th>3</th>\n",
       "      <td>28020</td>\n",
       "      <td>Male</td>\n",
       "      <td>23</td>\n",
       "      <td>23327</td>\n",
       "      <td>10000014</td>\n",
       "      <td>Cash</td>\n",
       "      <td>42376</td>\n",
       "      <td>Pink Cab</td>\n",
       "      <td>ATLANTA GA</td>\n",
       "      <td>33.17</td>\n",
       "      <td>377.40</td>\n",
       "      <td>351.602</td>\n",
       "      <td>814,885</td>\n",
       "      <td>24,701</td>\n",
       "    </tr>\n",
       "    <tr>\n",
       "      <th>4</th>\n",
       "      <td>27182</td>\n",
       "      <td>Male</td>\n",
       "      <td>33</td>\n",
       "      <td>8536</td>\n",
       "      <td>10000015</td>\n",
       "      <td>Card</td>\n",
       "      <td>42372</td>\n",
       "      <td>Pink Cab</td>\n",
       "      <td>ATLANTA GA</td>\n",
       "      <td>8.73</td>\n",
       "      <td>114.62</td>\n",
       "      <td>97.776</td>\n",
       "      <td>814,885</td>\n",
       "      <td>24,701</td>\n",
       "    </tr>\n",
       "  </tbody>\n",
       "</table>\n",
       "</div>"
      ],
      "text/plain": [
       "   Customer ID Gender  Age  Income (USD/Month)  Transaction ID Payment_Mode  \\\n",
       "0        29290   Male   28               10813        10000011         Card   \n",
       "1        27703   Male   27                9237        10000012         Card   \n",
       "2        28712   Male   53               11242        10000013         Cash   \n",
       "3        28020   Male   23               23327        10000014         Cash   \n",
       "4        27182   Male   33                8536        10000015         Card   \n",
       "\n",
       "   Date of Travel   Company        City  KM Travelled  Price Charged  \\\n",
       "0           42377  Pink Cab  ATLANTA GA         30.45         370.95   \n",
       "1           42375  Pink Cab  ATLANTA GA         28.62         358.52   \n",
       "2           42371  Pink Cab  ATLANTA GA          9.04         125.20   \n",
       "3           42376  Pink Cab  ATLANTA GA         33.17         377.40   \n",
       "4           42372  Pink Cab  ATLANTA GA          8.73         114.62   \n",
       "\n",
       "   Cost of Trip Population     Users  \n",
       "0       313.635   814,885    24,701   \n",
       "1       334.854   814,885    24,701   \n",
       "2        97.632   814,885    24,701   \n",
       "3       351.602   814,885    24,701   \n",
       "4        97.776   814,885    24,701   "
      ]
     },
     "execution_count": 48,
     "metadata": {},
     "output_type": "execute_result"
    }
   ],
   "source": [
    "data.head()"
   ]
  },
  {
   "cell_type": "code",
   "execution_count": 49,
   "id": "db01655c",
   "metadata": {},
   "outputs": [],
   "source": [
    "data.rename(columns = {\"Gender\" : \"Customer_gender\", \"Age\" : \"Customer_age\", \"Population\":\"City_population\", \"Users\":\"Users in City\"}, inplace = True)"
   ]
  },
  {
   "cell_type": "code",
   "execution_count": 50,
   "id": "990657d0",
   "metadata": {},
   "outputs": [
    {
     "data": {
      "text/html": [
       "<div>\n",
       "<style scoped>\n",
       "    .dataframe tbody tr th:only-of-type {\n",
       "        vertical-align: middle;\n",
       "    }\n",
       "\n",
       "    .dataframe tbody tr th {\n",
       "        vertical-align: top;\n",
       "    }\n",
       "\n",
       "    .dataframe thead th {\n",
       "        text-align: right;\n",
       "    }\n",
       "</style>\n",
       "<table border=\"1\" class=\"dataframe\">\n",
       "  <thead>\n",
       "    <tr style=\"text-align: right;\">\n",
       "      <th></th>\n",
       "      <th>Customer ID</th>\n",
       "      <th>Customer_gender</th>\n",
       "      <th>Customer_age</th>\n",
       "      <th>Income (USD/Month)</th>\n",
       "      <th>Transaction ID</th>\n",
       "      <th>Payment_Mode</th>\n",
       "      <th>Date of Travel</th>\n",
       "      <th>Company</th>\n",
       "      <th>City</th>\n",
       "      <th>KM Travelled</th>\n",
       "      <th>Price Charged</th>\n",
       "      <th>Cost of Trip</th>\n",
       "      <th>City_population</th>\n",
       "      <th>Users in City</th>\n",
       "    </tr>\n",
       "  </thead>\n",
       "  <tbody>\n",
       "    <tr>\n",
       "      <th>0</th>\n",
       "      <td>29290</td>\n",
       "      <td>Male</td>\n",
       "      <td>28</td>\n",
       "      <td>10813</td>\n",
       "      <td>10000011</td>\n",
       "      <td>Card</td>\n",
       "      <td>42377</td>\n",
       "      <td>Pink Cab</td>\n",
       "      <td>ATLANTA GA</td>\n",
       "      <td>30.45</td>\n",
       "      <td>370.95</td>\n",
       "      <td>313.635</td>\n",
       "      <td>814,885</td>\n",
       "      <td>24,701</td>\n",
       "    </tr>\n",
       "  </tbody>\n",
       "</table>\n",
       "</div>"
      ],
      "text/plain": [
       "   Customer ID Customer_gender  Customer_age  Income (USD/Month)  \\\n",
       "0        29290            Male            28               10813   \n",
       "\n",
       "   Transaction ID Payment_Mode  Date of Travel   Company        City  \\\n",
       "0        10000011         Card           42377  Pink Cab  ATLANTA GA   \n",
       "\n",
       "   KM Travelled  Price Charged  Cost of Trip City_population Users in City  \n",
       "0         30.45         370.95       313.635        814,885        24,701   "
      ]
     },
     "execution_count": 50,
     "metadata": {},
     "output_type": "execute_result"
    }
   ],
   "source": [
    "data.head(1)"
   ]
  },
  {
   "cell_type": "code",
   "execution_count": 51,
   "id": "1fbfa96d",
   "metadata": {},
   "outputs": [
    {
     "data": {
      "text/plain": [
       "(1558, 14)"
      ]
     },
     "execution_count": 51,
     "metadata": {},
     "output_type": "execute_result"
    }
   ],
   "source": [
    "data.shape"
   ]
  },
  {
   "cell_type": "code",
   "execution_count": 52,
   "id": "6d773623",
   "metadata": {},
   "outputs": [
    {
     "name": "stdout",
     "output_type": "stream",
     "text": [
      "<class 'pandas.core.frame.DataFrame'>\n",
      "Int64Index: 1558 entries, 0 to 1557\n",
      "Data columns (total 14 columns):\n",
      " #   Column              Non-Null Count  Dtype  \n",
      "---  ------              --------------  -----  \n",
      " 0   Customer ID         1558 non-null   int64  \n",
      " 1   Customer_gender     1558 non-null   object \n",
      " 2   Customer_age        1558 non-null   int64  \n",
      " 3   Income (USD/Month)  1558 non-null   int64  \n",
      " 4   Transaction ID      1558 non-null   int64  \n",
      " 5   Payment_Mode        1558 non-null   object \n",
      " 6   Date of Travel      1558 non-null   int64  \n",
      " 7   Company             1558 non-null   object \n",
      " 8   City                1558 non-null   object \n",
      " 9   KM Travelled        1558 non-null   float64\n",
      " 10  Price Charged       1558 non-null   float64\n",
      " 11  Cost of Trip        1558 non-null   float64\n",
      " 12  City_population     1558 non-null   object \n",
      " 13  Users in City       1558 non-null   object \n",
      "dtypes: float64(3), int64(5), object(6)\n",
      "memory usage: 182.6+ KB\n"
     ]
    }
   ],
   "source": [
    "data.info()"
   ]
  },
  {
   "cell_type": "code",
   "execution_count": 53,
   "id": "f9dd2163",
   "metadata": {},
   "outputs": [
    {
     "data": {
      "text/html": [
       "<div>\n",
       "<style scoped>\n",
       "    .dataframe tbody tr th:only-of-type {\n",
       "        vertical-align: middle;\n",
       "    }\n",
       "\n",
       "    .dataframe tbody tr th {\n",
       "        vertical-align: top;\n",
       "    }\n",
       "\n",
       "    .dataframe thead th {\n",
       "        text-align: right;\n",
       "    }\n",
       "</style>\n",
       "<table border=\"1\" class=\"dataframe\">\n",
       "  <thead>\n",
       "    <tr style=\"text-align: right;\">\n",
       "      <th></th>\n",
       "      <th>Customer ID</th>\n",
       "      <th>Customer_age</th>\n",
       "      <th>Income (USD/Month)</th>\n",
       "      <th>Transaction ID</th>\n",
       "      <th>Date of Travel</th>\n",
       "      <th>KM Travelled</th>\n",
       "      <th>Price Charged</th>\n",
       "      <th>Cost of Trip</th>\n",
       "    </tr>\n",
       "  </thead>\n",
       "  <tbody>\n",
       "    <tr>\n",
       "      <th>count</th>\n",
       "      <td>1558.000000</td>\n",
       "      <td>1558.000000</td>\n",
       "      <td>1558.000000</td>\n",
       "      <td>1.558000e+03</td>\n",
       "      <td>1558.000000</td>\n",
       "      <td>1558.000000</td>\n",
       "      <td>1558.000000</td>\n",
       "      <td>1558.000000</td>\n",
       "    </tr>\n",
       "    <tr>\n",
       "      <th>mean</th>\n",
       "      <td>19444.908216</td>\n",
       "      <td>34.886393</td>\n",
       "      <td>14872.437099</td>\n",
       "      <td>1.000101e+07</td>\n",
       "      <td>42377.269576</td>\n",
       "      <td>22.637599</td>\n",
       "      <td>478.152125</td>\n",
       "      <td>284.634846</td>\n",
       "    </tr>\n",
       "    <tr>\n",
       "      <th>std</th>\n",
       "      <td>20377.418986</td>\n",
       "      <td>12.668717</td>\n",
       "      <td>7953.293530</td>\n",
       "      <td>5.833350e+02</td>\n",
       "      <td>4.412627</td>\n",
       "      <td>12.278440</td>\n",
       "      <td>303.512623</td>\n",
       "      <td>157.573756</td>\n",
       "    </tr>\n",
       "    <tr>\n",
       "      <th>min</th>\n",
       "      <td>8.000000</td>\n",
       "      <td>18.000000</td>\n",
       "      <td>2035.000000</td>\n",
       "      <td>1.000001e+07</td>\n",
       "      <td>42371.000000</td>\n",
       "      <td>1.900000</td>\n",
       "      <td>22.200000</td>\n",
       "      <td>19.380000</td>\n",
       "    </tr>\n",
       "    <tr>\n",
       "      <th>25%</th>\n",
       "      <td>3975.250000</td>\n",
       "      <td>24.000000</td>\n",
       "      <td>8145.250000</td>\n",
       "      <td>1.000054e+07</td>\n",
       "      <td>42374.000000</td>\n",
       "      <td>12.100000</td>\n",
       "      <td>227.190000</td>\n",
       "      <td>149.870500</td>\n",
       "    </tr>\n",
       "    <tr>\n",
       "      <th>50%</th>\n",
       "      <td>7631.500000</td>\n",
       "      <td>32.000000</td>\n",
       "      <td>14635.500000</td>\n",
       "      <td>1.000093e+07</td>\n",
       "      <td>42377.000000</td>\n",
       "      <td>22.400000</td>\n",
       "      <td>440.085000</td>\n",
       "      <td>280.119000</td>\n",
       "    </tr>\n",
       "    <tr>\n",
       "      <th>75%</th>\n",
       "      <td>33780.000000</td>\n",
       "      <td>41.000000</td>\n",
       "      <td>20797.250000</td>\n",
       "      <td>1.000148e+07</td>\n",
       "      <td>42380.000000</td>\n",
       "      <td>32.995000</td>\n",
       "      <td>687.887500</td>\n",
       "      <td>417.469000</td>\n",
       "    </tr>\n",
       "    <tr>\n",
       "      <th>max</th>\n",
       "      <td>59965.000000</td>\n",
       "      <td>65.000000</td>\n",
       "      <td>34968.000000</td>\n",
       "      <td>1.000201e+07</td>\n",
       "      <td>42388.000000</td>\n",
       "      <td>47.600000</td>\n",
       "      <td>1544.450000</td>\n",
       "      <td>662.688000</td>\n",
       "    </tr>\n",
       "  </tbody>\n",
       "</table>\n",
       "</div>"
      ],
      "text/plain": [
       "        Customer ID  Customer_age  Income (USD/Month)  Transaction ID  \\\n",
       "count   1558.000000   1558.000000         1558.000000    1.558000e+03   \n",
       "mean   19444.908216     34.886393        14872.437099    1.000101e+07   \n",
       "std    20377.418986     12.668717         7953.293530    5.833350e+02   \n",
       "min        8.000000     18.000000         2035.000000    1.000001e+07   \n",
       "25%     3975.250000     24.000000         8145.250000    1.000054e+07   \n",
       "50%     7631.500000     32.000000        14635.500000    1.000093e+07   \n",
       "75%    33780.000000     41.000000        20797.250000    1.000148e+07   \n",
       "max    59965.000000     65.000000        34968.000000    1.000201e+07   \n",
       "\n",
       "       Date of Travel  KM Travelled  Price Charged  Cost of Trip  \n",
       "count     1558.000000   1558.000000    1558.000000   1558.000000  \n",
       "mean     42377.269576     22.637599     478.152125    284.634846  \n",
       "std          4.412627     12.278440     303.512623    157.573756  \n",
       "min      42371.000000      1.900000      22.200000     19.380000  \n",
       "25%      42374.000000     12.100000     227.190000    149.870500  \n",
       "50%      42377.000000     22.400000     440.085000    280.119000  \n",
       "75%      42380.000000     32.995000     687.887500    417.469000  \n",
       "max      42388.000000     47.600000    1544.450000    662.688000  "
      ]
     },
     "execution_count": 53,
     "metadata": {},
     "output_type": "execute_result"
    }
   ],
   "source": [
    "data.describe()"
   ]
  },
  {
   "cell_type": "code",
   "execution_count": 54,
   "id": "2e10a362",
   "metadata": {},
   "outputs": [
    {
     "data": {
      "text/plain": [
       "Customer ID           0\n",
       "Customer_gender       0\n",
       "Customer_age          0\n",
       "Income (USD/Month)    0\n",
       "Transaction ID        0\n",
       "Payment_Mode          0\n",
       "Date of Travel        0\n",
       "Company               0\n",
       "City                  0\n",
       "KM Travelled          0\n",
       "Price Charged         0\n",
       "Cost of Trip          0\n",
       "City_population       0\n",
       "Users in City         0\n",
       "dtype: int64"
      ]
     },
     "execution_count": 54,
     "metadata": {},
     "output_type": "execute_result"
    }
   ],
   "source": [
    "## Finding missing values :\n",
    "\n",
    "data.isnull().sum()\n",
    "## There is no missing value present."
   ]
  },
  {
   "cell_type": "code",
   "execution_count": 55,
   "id": "b20326fe",
   "metadata": {},
   "outputs": [
    {
     "data": {
      "text/plain": [
       "0"
      ]
     },
     "execution_count": 55,
     "metadata": {},
     "output_type": "execute_result"
    }
   ],
   "source": [
    "## Finding duplicated values :\n",
    "\n",
    "data.duplicated().sum()\n",
    "\n",
    "## No duplicated values found."
   ]
  },
  {
   "cell_type": "code",
   "execution_count": 56,
   "id": "eeae75e6",
   "metadata": {},
   "outputs": [
    {
     "data": {
      "text/html": [
       "<div>\n",
       "<style scoped>\n",
       "    .dataframe tbody tr th:only-of-type {\n",
       "        vertical-align: middle;\n",
       "    }\n",
       "\n",
       "    .dataframe tbody tr th {\n",
       "        vertical-align: top;\n",
       "    }\n",
       "\n",
       "    .dataframe thead th {\n",
       "        text-align: right;\n",
       "    }\n",
       "</style>\n",
       "<table border=\"1\" class=\"dataframe\">\n",
       "  <thead>\n",
       "    <tr style=\"text-align: right;\">\n",
       "      <th></th>\n",
       "      <th>Customer ID</th>\n",
       "      <th>Customer_gender</th>\n",
       "      <th>Customer_age</th>\n",
       "      <th>Income (USD/Month)</th>\n",
       "      <th>Transaction ID</th>\n",
       "      <th>Payment_Mode</th>\n",
       "      <th>Date of Travel</th>\n",
       "      <th>Company</th>\n",
       "      <th>City</th>\n",
       "      <th>KM Travelled</th>\n",
       "      <th>Price Charged</th>\n",
       "      <th>Cost of Trip</th>\n",
       "      <th>City_population</th>\n",
       "      <th>Users in City</th>\n",
       "    </tr>\n",
       "  </thead>\n",
       "  <tbody>\n",
       "    <tr>\n",
       "      <th>0</th>\n",
       "      <td>29290</td>\n",
       "      <td>Male</td>\n",
       "      <td>28</td>\n",
       "      <td>10813</td>\n",
       "      <td>10000011</td>\n",
       "      <td>Card</td>\n",
       "      <td>42377</td>\n",
       "      <td>Pink Cab</td>\n",
       "      <td>ATLANTA GA</td>\n",
       "      <td>30.45</td>\n",
       "      <td>370.95</td>\n",
       "      <td>313.635</td>\n",
       "      <td>814,885</td>\n",
       "      <td>24,701</td>\n",
       "    </tr>\n",
       "    <tr>\n",
       "      <th>1</th>\n",
       "      <td>27703</td>\n",
       "      <td>Male</td>\n",
       "      <td>27</td>\n",
       "      <td>9237</td>\n",
       "      <td>10000012</td>\n",
       "      <td>Card</td>\n",
       "      <td>42375</td>\n",
       "      <td>Pink Cab</td>\n",
       "      <td>ATLANTA GA</td>\n",
       "      <td>28.62</td>\n",
       "      <td>358.52</td>\n",
       "      <td>334.854</td>\n",
       "      <td>814,885</td>\n",
       "      <td>24,701</td>\n",
       "    </tr>\n",
       "    <tr>\n",
       "      <th>2</th>\n",
       "      <td>28712</td>\n",
       "      <td>Male</td>\n",
       "      <td>53</td>\n",
       "      <td>11242</td>\n",
       "      <td>10000013</td>\n",
       "      <td>Cash</td>\n",
       "      <td>42371</td>\n",
       "      <td>Pink Cab</td>\n",
       "      <td>ATLANTA GA</td>\n",
       "      <td>9.04</td>\n",
       "      <td>125.20</td>\n",
       "      <td>97.632</td>\n",
       "      <td>814,885</td>\n",
       "      <td>24,701</td>\n",
       "    </tr>\n",
       "    <tr>\n",
       "      <th>3</th>\n",
       "      <td>28020</td>\n",
       "      <td>Male</td>\n",
       "      <td>23</td>\n",
       "      <td>23327</td>\n",
       "      <td>10000014</td>\n",
       "      <td>Cash</td>\n",
       "      <td>42376</td>\n",
       "      <td>Pink Cab</td>\n",
       "      <td>ATLANTA GA</td>\n",
       "      <td>33.17</td>\n",
       "      <td>377.40</td>\n",
       "      <td>351.602</td>\n",
       "      <td>814,885</td>\n",
       "      <td>24,701</td>\n",
       "    </tr>\n",
       "    <tr>\n",
       "      <th>4</th>\n",
       "      <td>27182</td>\n",
       "      <td>Male</td>\n",
       "      <td>33</td>\n",
       "      <td>8536</td>\n",
       "      <td>10000015</td>\n",
       "      <td>Card</td>\n",
       "      <td>42372</td>\n",
       "      <td>Pink Cab</td>\n",
       "      <td>ATLANTA GA</td>\n",
       "      <td>8.73</td>\n",
       "      <td>114.62</td>\n",
       "      <td>97.776</td>\n",
       "      <td>814,885</td>\n",
       "      <td>24,701</td>\n",
       "    </tr>\n",
       "  </tbody>\n",
       "</table>\n",
       "</div>"
      ],
      "text/plain": [
       "   Customer ID Customer_gender  Customer_age  Income (USD/Month)  \\\n",
       "0        29290            Male            28               10813   \n",
       "1        27703            Male            27                9237   \n",
       "2        28712            Male            53               11242   \n",
       "3        28020            Male            23               23327   \n",
       "4        27182            Male            33                8536   \n",
       "\n",
       "   Transaction ID Payment_Mode  Date of Travel   Company        City  \\\n",
       "0        10000011         Card           42377  Pink Cab  ATLANTA GA   \n",
       "1        10000012         Card           42375  Pink Cab  ATLANTA GA   \n",
       "2        10000013         Cash           42371  Pink Cab  ATLANTA GA   \n",
       "3        10000014         Cash           42376  Pink Cab  ATLANTA GA   \n",
       "4        10000015         Card           42372  Pink Cab  ATLANTA GA   \n",
       "\n",
       "   KM Travelled  Price Charged  Cost of Trip City_population Users in City  \n",
       "0         30.45         370.95       313.635        814,885        24,701   \n",
       "1         28.62         358.52       334.854        814,885        24,701   \n",
       "2          9.04         125.20        97.632        814,885        24,701   \n",
       "3         33.17         377.40       351.602        814,885        24,701   \n",
       "4          8.73         114.62        97.776        814,885        24,701   "
      ]
     },
     "execution_count": 56,
     "metadata": {},
     "output_type": "execute_result"
    }
   ],
   "source": [
    "data.head()"
   ]
  },
  {
   "cell_type": "code",
   "execution_count": 57,
   "id": "616c97b4",
   "metadata": {},
   "outputs": [],
   "source": [
    "## converting the data file into csv:\n",
    "\n",
    "data.to_excel('All_data.xlsx')"
   ]
  },
  {
   "cell_type": "code",
   "execution_count": 58,
   "id": "b05a3de7",
   "metadata": {},
   "outputs": [],
   "source": [
    "## Loding the excel file:\n",
    "data = pd.read_excel('All_data.xlsx', index_col = [0])"
   ]
  },
  {
   "cell_type": "code",
   "execution_count": 59,
   "id": "dadc7f12",
   "metadata": {},
   "outputs": [
    {
     "data": {
      "text/html": [
       "<div>\n",
       "<style scoped>\n",
       "    .dataframe tbody tr th:only-of-type {\n",
       "        vertical-align: middle;\n",
       "    }\n",
       "\n",
       "    .dataframe tbody tr th {\n",
       "        vertical-align: top;\n",
       "    }\n",
       "\n",
       "    .dataframe thead th {\n",
       "        text-align: right;\n",
       "    }\n",
       "</style>\n",
       "<table border=\"1\" class=\"dataframe\">\n",
       "  <thead>\n",
       "    <tr style=\"text-align: right;\">\n",
       "      <th></th>\n",
       "      <th>Customer ID</th>\n",
       "      <th>Customer_gender</th>\n",
       "      <th>Customer_age</th>\n",
       "      <th>Income (USD/Month)</th>\n",
       "      <th>Transaction ID</th>\n",
       "      <th>Payment_Mode</th>\n",
       "      <th>Date of Travel</th>\n",
       "      <th>Company</th>\n",
       "      <th>City</th>\n",
       "      <th>KM Travelled</th>\n",
       "      <th>Price Charged</th>\n",
       "      <th>Cost of Trip</th>\n",
       "      <th>City_population</th>\n",
       "      <th>Users in City</th>\n",
       "    </tr>\n",
       "  </thead>\n",
       "  <tbody>\n",
       "    <tr>\n",
       "      <th>0</th>\n",
       "      <td>29290</td>\n",
       "      <td>Male</td>\n",
       "      <td>28</td>\n",
       "      <td>10813</td>\n",
       "      <td>10000011</td>\n",
       "      <td>Card</td>\n",
       "      <td>2016-01-08</td>\n",
       "      <td>Pink Cab</td>\n",
       "      <td>ATLANTA GA</td>\n",
       "      <td>30.45</td>\n",
       "      <td>370.95</td>\n",
       "      <td>313.635</td>\n",
       "      <td>814,885</td>\n",
       "      <td>24,701</td>\n",
       "    </tr>\n",
       "    <tr>\n",
       "      <th>1</th>\n",
       "      <td>27703</td>\n",
       "      <td>Male</td>\n",
       "      <td>27</td>\n",
       "      <td>9237</td>\n",
       "      <td>10000012</td>\n",
       "      <td>Card</td>\n",
       "      <td>2016-01-06</td>\n",
       "      <td>Pink Cab</td>\n",
       "      <td>ATLANTA GA</td>\n",
       "      <td>28.62</td>\n",
       "      <td>358.52</td>\n",
       "      <td>334.854</td>\n",
       "      <td>814,885</td>\n",
       "      <td>24,701</td>\n",
       "    </tr>\n",
       "    <tr>\n",
       "      <th>2</th>\n",
       "      <td>28712</td>\n",
       "      <td>Male</td>\n",
       "      <td>53</td>\n",
       "      <td>11242</td>\n",
       "      <td>10000013</td>\n",
       "      <td>Cash</td>\n",
       "      <td>2016-01-02</td>\n",
       "      <td>Pink Cab</td>\n",
       "      <td>ATLANTA GA</td>\n",
       "      <td>9.04</td>\n",
       "      <td>125.20</td>\n",
       "      <td>97.632</td>\n",
       "      <td>814,885</td>\n",
       "      <td>24,701</td>\n",
       "    </tr>\n",
       "    <tr>\n",
       "      <th>3</th>\n",
       "      <td>28020</td>\n",
       "      <td>Male</td>\n",
       "      <td>23</td>\n",
       "      <td>23327</td>\n",
       "      <td>10000014</td>\n",
       "      <td>Cash</td>\n",
       "      <td>2016-01-07</td>\n",
       "      <td>Pink Cab</td>\n",
       "      <td>ATLANTA GA</td>\n",
       "      <td>33.17</td>\n",
       "      <td>377.40</td>\n",
       "      <td>351.602</td>\n",
       "      <td>814,885</td>\n",
       "      <td>24,701</td>\n",
       "    </tr>\n",
       "    <tr>\n",
       "      <th>4</th>\n",
       "      <td>27182</td>\n",
       "      <td>Male</td>\n",
       "      <td>33</td>\n",
       "      <td>8536</td>\n",
       "      <td>10000015</td>\n",
       "      <td>Card</td>\n",
       "      <td>2016-01-03</td>\n",
       "      <td>Pink Cab</td>\n",
       "      <td>ATLANTA GA</td>\n",
       "      <td>8.73</td>\n",
       "      <td>114.62</td>\n",
       "      <td>97.776</td>\n",
       "      <td>814,885</td>\n",
       "      <td>24,701</td>\n",
       "    </tr>\n",
       "  </tbody>\n",
       "</table>\n",
       "</div>"
      ],
      "text/plain": [
       "   Customer ID Customer_gender  Customer_age  Income (USD/Month)  \\\n",
       "0        29290            Male            28               10813   \n",
       "1        27703            Male            27                9237   \n",
       "2        28712            Male            53               11242   \n",
       "3        28020            Male            23               23327   \n",
       "4        27182            Male            33                8536   \n",
       "\n",
       "   Transaction ID Payment_Mode Date of Travel   Company        City  \\\n",
       "0        10000011         Card     2016-01-08  Pink Cab  ATLANTA GA   \n",
       "1        10000012         Card     2016-01-06  Pink Cab  ATLANTA GA   \n",
       "2        10000013         Cash     2016-01-02  Pink Cab  ATLANTA GA   \n",
       "3        10000014         Cash     2016-01-07  Pink Cab  ATLANTA GA   \n",
       "4        10000015         Card     2016-01-03  Pink Cab  ATLANTA GA   \n",
       "\n",
       "   KM Travelled  Price Charged  Cost of Trip City_population Users in City  \n",
       "0         30.45         370.95       313.635        814,885        24,701   \n",
       "1         28.62         358.52       334.854        814,885        24,701   \n",
       "2          9.04         125.20        97.632        814,885        24,701   \n",
       "3         33.17         377.40       351.602        814,885        24,701   \n",
       "4          8.73         114.62        97.776        814,885        24,701   "
      ]
     },
     "execution_count": 59,
     "metadata": {},
     "output_type": "execute_result"
    }
   ],
   "source": [
    "data.head()"
   ]
  },
  {
   "cell_type": "code",
   "execution_count": 65,
   "id": "c45fe4a3",
   "metadata": {},
   "outputs": [
    {
     "name": "stderr",
     "output_type": "stream",
     "text": [
      "C:\\Users\\Admin\\AppData\\Local\\Temp\\ipykernel_1552\\4128066353.py:4: FutureWarning: Series.dt.weekofyear and Series.dt.week have been deprecated. Please use Series.dt.isocalendar().week instead.\n",
      "  data['Week of Travel'] = data['Date of Travel'].dt.week\n"
     ]
    }
   ],
   "source": [
    "data['month'] = data['Date of Travel'].dt.month_name()\n",
    "data['Year'] = data['Date of Travel'].dt.year\n",
    "data['Day'] = data['Date of Travel'].dt.day_name()\n",
    "data['Week of Travel'] = data['Date of Travel'].dt.week\n",
    "data['Date'] = data['Date of Travel'].dt.day\n",
    "\n",
    "data.drop(['Date of Travel'], axis = 1, inplace  = True)"
   ]
  },
  {
   "cell_type": "code",
   "execution_count": 66,
   "id": "c270a82f",
   "metadata": {},
   "outputs": [
    {
     "data": {
      "text/html": [
       "<div>\n",
       "<style scoped>\n",
       "    .dataframe tbody tr th:only-of-type {\n",
       "        vertical-align: middle;\n",
       "    }\n",
       "\n",
       "    .dataframe tbody tr th {\n",
       "        vertical-align: top;\n",
       "    }\n",
       "\n",
       "    .dataframe thead th {\n",
       "        text-align: right;\n",
       "    }\n",
       "</style>\n",
       "<table border=\"1\" class=\"dataframe\">\n",
       "  <thead>\n",
       "    <tr style=\"text-align: right;\">\n",
       "      <th></th>\n",
       "      <th>Customer ID</th>\n",
       "      <th>Customer_gender</th>\n",
       "      <th>Customer_age</th>\n",
       "      <th>Income (USD/Month)</th>\n",
       "      <th>Transaction ID</th>\n",
       "      <th>Payment_Mode</th>\n",
       "      <th>Company</th>\n",
       "      <th>City</th>\n",
       "      <th>KM Travelled</th>\n",
       "      <th>Price Charged</th>\n",
       "      <th>Cost of Trip</th>\n",
       "      <th>City_population</th>\n",
       "      <th>Users in City</th>\n",
       "      <th>month</th>\n",
       "      <th>Year</th>\n",
       "      <th>Day</th>\n",
       "      <th>Week of Travel</th>\n",
       "      <th>Date</th>\n",
       "    </tr>\n",
       "  </thead>\n",
       "  <tbody>\n",
       "    <tr>\n",
       "      <th>0</th>\n",
       "      <td>29290</td>\n",
       "      <td>Male</td>\n",
       "      <td>28</td>\n",
       "      <td>10813</td>\n",
       "      <td>10000011</td>\n",
       "      <td>Card</td>\n",
       "      <td>Pink Cab</td>\n",
       "      <td>ATLANTA GA</td>\n",
       "      <td>30.45</td>\n",
       "      <td>370.95</td>\n",
       "      <td>313.635</td>\n",
       "      <td>814,885</td>\n",
       "      <td>24,701</td>\n",
       "      <td>January</td>\n",
       "      <td>2016</td>\n",
       "      <td>Friday</td>\n",
       "      <td>1</td>\n",
       "      <td>8</td>\n",
       "    </tr>\n",
       "    <tr>\n",
       "      <th>1</th>\n",
       "      <td>27703</td>\n",
       "      <td>Male</td>\n",
       "      <td>27</td>\n",
       "      <td>9237</td>\n",
       "      <td>10000012</td>\n",
       "      <td>Card</td>\n",
       "      <td>Pink Cab</td>\n",
       "      <td>ATLANTA GA</td>\n",
       "      <td>28.62</td>\n",
       "      <td>358.52</td>\n",
       "      <td>334.854</td>\n",
       "      <td>814,885</td>\n",
       "      <td>24,701</td>\n",
       "      <td>January</td>\n",
       "      <td>2016</td>\n",
       "      <td>Wednesday</td>\n",
       "      <td>1</td>\n",
       "      <td>6</td>\n",
       "    </tr>\n",
       "    <tr>\n",
       "      <th>2</th>\n",
       "      <td>28712</td>\n",
       "      <td>Male</td>\n",
       "      <td>53</td>\n",
       "      <td>11242</td>\n",
       "      <td>10000013</td>\n",
       "      <td>Cash</td>\n",
       "      <td>Pink Cab</td>\n",
       "      <td>ATLANTA GA</td>\n",
       "      <td>9.04</td>\n",
       "      <td>125.20</td>\n",
       "      <td>97.632</td>\n",
       "      <td>814,885</td>\n",
       "      <td>24,701</td>\n",
       "      <td>January</td>\n",
       "      <td>2016</td>\n",
       "      <td>Saturday</td>\n",
       "      <td>53</td>\n",
       "      <td>2</td>\n",
       "    </tr>\n",
       "    <tr>\n",
       "      <th>3</th>\n",
       "      <td>28020</td>\n",
       "      <td>Male</td>\n",
       "      <td>23</td>\n",
       "      <td>23327</td>\n",
       "      <td>10000014</td>\n",
       "      <td>Cash</td>\n",
       "      <td>Pink Cab</td>\n",
       "      <td>ATLANTA GA</td>\n",
       "      <td>33.17</td>\n",
       "      <td>377.40</td>\n",
       "      <td>351.602</td>\n",
       "      <td>814,885</td>\n",
       "      <td>24,701</td>\n",
       "      <td>January</td>\n",
       "      <td>2016</td>\n",
       "      <td>Thursday</td>\n",
       "      <td>1</td>\n",
       "      <td>7</td>\n",
       "    </tr>\n",
       "    <tr>\n",
       "      <th>4</th>\n",
       "      <td>27182</td>\n",
       "      <td>Male</td>\n",
       "      <td>33</td>\n",
       "      <td>8536</td>\n",
       "      <td>10000015</td>\n",
       "      <td>Card</td>\n",
       "      <td>Pink Cab</td>\n",
       "      <td>ATLANTA GA</td>\n",
       "      <td>8.73</td>\n",
       "      <td>114.62</td>\n",
       "      <td>97.776</td>\n",
       "      <td>814,885</td>\n",
       "      <td>24,701</td>\n",
       "      <td>January</td>\n",
       "      <td>2016</td>\n",
       "      <td>Sunday</td>\n",
       "      <td>53</td>\n",
       "      <td>3</td>\n",
       "    </tr>\n",
       "  </tbody>\n",
       "</table>\n",
       "</div>"
      ],
      "text/plain": [
       "   Customer ID Customer_gender  Customer_age  Income (USD/Month)  \\\n",
       "0        29290            Male            28               10813   \n",
       "1        27703            Male            27                9237   \n",
       "2        28712            Male            53               11242   \n",
       "3        28020            Male            23               23327   \n",
       "4        27182            Male            33                8536   \n",
       "\n",
       "   Transaction ID Payment_Mode   Company        City  KM Travelled  \\\n",
       "0        10000011         Card  Pink Cab  ATLANTA GA         30.45   \n",
       "1        10000012         Card  Pink Cab  ATLANTA GA         28.62   \n",
       "2        10000013         Cash  Pink Cab  ATLANTA GA          9.04   \n",
       "3        10000014         Cash  Pink Cab  ATLANTA GA         33.17   \n",
       "4        10000015         Card  Pink Cab  ATLANTA GA          8.73   \n",
       "\n",
       "   Price Charged  Cost of Trip City_population Users in City    month  Year  \\\n",
       "0         370.95       313.635        814,885        24,701   January  2016   \n",
       "1         358.52       334.854        814,885        24,701   January  2016   \n",
       "2         125.20        97.632        814,885        24,701   January  2016   \n",
       "3         377.40       351.602        814,885        24,701   January  2016   \n",
       "4         114.62        97.776        814,885        24,701   January  2016   \n",
       "\n",
       "         Day  Week of Travel  Date  \n",
       "0     Friday               1     8  \n",
       "1  Wednesday               1     6  \n",
       "2   Saturday              53     2  \n",
       "3   Thursday               1     7  \n",
       "4     Sunday              53     3  "
      ]
     },
     "execution_count": 66,
     "metadata": {},
     "output_type": "execute_result"
    }
   ],
   "source": [
    "data.head()"
   ]
  },
  {
   "cell_type": "code",
   "execution_count": null,
   "id": "0bdb6285",
   "metadata": {},
   "outputs": [],
   "source": []
  },
  {
   "cell_type": "markdown",
   "id": "0471a438",
   "metadata": {},
   "source": [
    "## EDA :"
   ]
  },
  {
   "cell_type": "code",
   "execution_count": 68,
   "id": "ca054909",
   "metadata": {},
   "outputs": [
    {
     "data": {
      "text/plain": [
       "Male    1558\n",
       "Name: Customer_gender, dtype: int64"
      ]
     },
     "execution_count": 68,
     "metadata": {},
     "output_type": "execute_result"
    }
   ],
   "source": [
    "data['Customer_gender'].value_counts()"
   ]
  },
  {
   "cell_type": "code",
   "execution_count": 215,
   "id": "128ccea0",
   "metadata": {},
   "outputs": [],
   "source": [
    "data['Cost/km'] = ((data['Cost of Trip']+data['Price Charged'])/2)/data['KM Travelled']"
   ]
  },
  {
   "cell_type": "code",
   "execution_count": 217,
   "id": "2cc59f44",
   "metadata": {},
   "outputs": [
    {
     "data": {
      "text/html": [
       "<div>\n",
       "<style scoped>\n",
       "    .dataframe tbody tr th:only-of-type {\n",
       "        vertical-align: middle;\n",
       "    }\n",
       "\n",
       "    .dataframe tbody tr th {\n",
       "        vertical-align: top;\n",
       "    }\n",
       "\n",
       "    .dataframe thead th {\n",
       "        text-align: right;\n",
       "    }\n",
       "</style>\n",
       "<table border=\"1\" class=\"dataframe\">\n",
       "  <thead>\n",
       "    <tr style=\"text-align: right;\">\n",
       "      <th></th>\n",
       "      <th>Customer ID</th>\n",
       "      <th>Customer_gender</th>\n",
       "      <th>Customer_age</th>\n",
       "      <th>Income (USD/Month)</th>\n",
       "      <th>Transaction ID</th>\n",
       "      <th>Payment_Mode</th>\n",
       "      <th>Company</th>\n",
       "      <th>City</th>\n",
       "      <th>KM Travelled</th>\n",
       "      <th>Price Charged</th>\n",
       "      <th>Cost of Trip</th>\n",
       "      <th>City_population</th>\n",
       "      <th>Users in City</th>\n",
       "      <th>month</th>\n",
       "      <th>Year</th>\n",
       "      <th>Day</th>\n",
       "      <th>Week of Travel</th>\n",
       "      <th>Date</th>\n",
       "      <th>Cost/km</th>\n",
       "    </tr>\n",
       "  </thead>\n",
       "  <tbody>\n",
       "    <tr>\n",
       "      <th>0</th>\n",
       "      <td>29290</td>\n",
       "      <td>Male</td>\n",
       "      <td>28</td>\n",
       "      <td>10813</td>\n",
       "      <td>10000011</td>\n",
       "      <td>Card</td>\n",
       "      <td>Pink Cab</td>\n",
       "      <td>ATLANTA GA</td>\n",
       "      <td>30.45</td>\n",
       "      <td>370.95</td>\n",
       "      <td>313.635</td>\n",
       "      <td>814,885</td>\n",
       "      <td>24,701</td>\n",
       "      <td>January</td>\n",
       "      <td>2016</td>\n",
       "      <td>Friday</td>\n",
       "      <td>1</td>\n",
       "      <td>8</td>\n",
       "      <td>11.241133</td>\n",
       "    </tr>\n",
       "  </tbody>\n",
       "</table>\n",
       "</div>"
      ],
      "text/plain": [
       "   Customer ID Customer_gender  Customer_age  Income (USD/Month)  \\\n",
       "0        29290            Male            28               10813   \n",
       "\n",
       "   Transaction ID Payment_Mode   Company        City  KM Travelled  \\\n",
       "0        10000011         Card  Pink Cab  ATLANTA GA         30.45   \n",
       "\n",
       "   Price Charged  Cost of Trip City_population Users in City    month  Year  \\\n",
       "0         370.95       313.635        814,885        24,701   January  2016   \n",
       "\n",
       "      Day  Week of Travel  Date    Cost/km  \n",
       "0  Friday               1     8  11.241133  "
      ]
     },
     "execution_count": 217,
     "metadata": {},
     "output_type": "execute_result"
    }
   ],
   "source": [
    "data.head(1)"
   ]
  },
  {
   "cell_type": "code",
   "execution_count": 253,
   "id": "3466d30e",
   "metadata": {},
   "outputs": [],
   "source": [
    "data.to_csv('final_cab_data.csv')"
   ]
  },
  {
   "cell_type": "code",
   "execution_count": 218,
   "id": "f46021a5",
   "metadata": {},
   "outputs": [
    {
     "data": {
      "text/plain": [
       "Company\n",
       "Pink Cab       454\n",
       "Yellow Cab    1104\n",
       "Name: Customer ID, dtype: int64"
      ]
     },
     "execution_count": 218,
     "metadata": {},
     "output_type": "execute_result"
    }
   ],
   "source": [
    "Company_count = data.groupby(['Company'])['Customer ID'].count()\n",
    "Company_count"
   ]
  },
  {
   "cell_type": "code",
   "execution_count": 219,
   "id": "83f649c6",
   "metadata": {},
   "outputs": [
    {
     "data": {
      "image/png": "[encoded data removed]",
      "text/plain": [
       "<Figure size 432x288 with 1 Axes>"
      ]
     },
     "metadata": {
      "needs_background": "light"
     },
     "output_type": "display_data"
    }
   ],
   "source": [
    "ax = Company_count.plot( kind = 'bar')\n",
    "ax.set_xlabel(\"Company\")\n",
    "ax.set_ylabel(\"No of Customers\")\n",
    "ax.bar_label(ax.containers[0], label_type = \"center\");"
   ]
  },
  {
   "cell_type": "code",
   "execution_count": 220,
   "id": "1f721cb1",
   "metadata": {},
   "outputs": [],
   "source": [
    "## Most of the record are by the company \"YELLOW CAB\". Yes, biasness existing in the data"
   ]
  },
  {
   "cell_type": "code",
   "execution_count": 221,
   "id": "ad8fb0f3",
   "metadata": {},
   "outputs": [
    {
     "data": {
      "text/plain": [
       "CHICAGO IL        418\n",
       "NEW YORK NY       253\n",
       "LOS ANGELES CA    212\n",
       "WASHINGTON DC     152\n",
       "BOSTON MA         145\n",
       "Name: City, dtype: int64"
      ]
     },
     "execution_count": 221,
     "metadata": {},
     "output_type": "execute_result"
    }
   ],
   "source": [
    "Cities = data['City'].value_counts().head()\n",
    "Cities"
   ]
  },
  {
   "cell_type": "code",
   "execution_count": 222,
   "id": "011a812a",
   "metadata": {},
   "outputs": [
    {
     "data": {
      "image/png": "[encoded data removed]",
      "text/plain": [
       "<Figure size 864x432 with 1 Axes>"
      ]
     },
     "metadata": {},
     "output_type": "display_data"
    }
   ],
   "source": [
    "plt.figure(figsize = (12,6))\n",
    "exp = [0,0,0,0,0.5]\n",
    "colors = ['#ff6666', '#ffcc99', '#99ff99', '#66b3ff','#ffb3e6']\n",
    "plt.pie(Cities, labels = Cities.index, autopct='%.0f%%', shadow = True, explode = exp, colors = colors);"
   ]
  },
  {
   "cell_type": "code",
   "execution_count": 223,
   "id": "5c90cd2d",
   "metadata": {},
   "outputs": [
    {
     "data": {
      "image/png": "[encoded data removed]",
      "text/plain": [
       "<Figure size 864x432 with 1 Axes>"
      ]
     },
     "metadata": {
      "needs_background": "light"
     },
     "output_type": "display_data"
    }
   ],
   "source": [
    "plt.figure(figsize = (12,6))\n",
    "ax = data['Day'].hist(bins = 7)\n",
    "ax.set_xlabel(\"Days Of Week\")\n",
    "ax.set_ylabel(\"Frequency Of Days\")\n",
    "ax.bar_label(ax.containers[0], label_type = \"center\");\n",
    "\n",
    "## Most of the customer travelled in Weekends"
   ]
  },
  {
   "cell_type": "code",
   "execution_count": 224,
   "id": "6e23e86c",
   "metadata": {},
   "outputs": [
    {
     "name": "stdout",
     "output_type": "stream",
     "text": [
      "Average Age of People using Cabs : 34.88639281129653\n",
      "\n",
      "Average Cost of Trip : 284.6348459563547\n",
      "\n",
      "Averge KM travelled : 22.637599486521182\n",
      "\n"
     ]
    }
   ],
   "source": [
    "## Average age of Customer using Cab :\n",
    "\n",
    "print(f\"Average Age of People using Cabs : {data['Customer_age'].mean()}\\n\")\n",
    "print(f\"Average Cost of Trip : {data['Cost of Trip'].mean()}\\n\")\n",
    "print(f\"Averge KM travelled : {data['KM Travelled'].mean()}\\n\")"
   ]
  },
  {
   "cell_type": "code",
   "execution_count": 225,
   "id": "b2b15a79",
   "metadata": {},
   "outputs": [
    {
     "data": {
      "text/plain": [
       "284.6348459563547"
      ]
     },
     "execution_count": 225,
     "metadata": {},
     "output_type": "execute_result"
    }
   ],
   "source": [
    "data['Cost of Trip'].mean()"
   ]
  },
  {
   "cell_type": "code",
   "execution_count": 226,
   "id": "d6df921e",
   "metadata": {},
   "outputs": [
    {
     "data": {
      "text/plain": [
       "Card    914\n",
       "Cash    644\n",
       "Name: Payment_Mode, dtype: int64"
      ]
     },
     "execution_count": 226,
     "metadata": {},
     "output_type": "execute_result"
    }
   ],
   "source": [
    "data['Payment_Mode'].value_counts()\n",
    "\n",
    "## Overall Customer use card Payment method rather than Cash"
   ]
  },
  {
   "cell_type": "code",
   "execution_count": 227,
   "id": "e3fef533",
   "metadata": {},
   "outputs": [
    {
     "data": {
      "image/png": "[encoded data removed]",
      "text/plain": [
       "<Figure size 432x288 with 1 Axes>"
      ]
     },
     "metadata": {
      "needs_background": "light"
     },
     "output_type": "display_data"
    },
    {
     "data": {
      "image/png": "[encoded data removed]",
      "text/plain": [
       "<Figure size 432x288 with 1 Axes>"
      ]
     },
     "metadata": {
      "needs_background": "light"
     },
     "output_type": "display_data"
    },
    {
     "data": {
      "image/png": "[encoded data removed]",
      "text/plain": [
       "<Figure size 432x288 with 1 Axes>"
      ]
     },
     "metadata": {
      "needs_background": "light"
     },
     "output_type": "display_data"
    },
    {
     "data": {
      "image/png": "[encoded data removed]",
      "text/plain": [
       "<Figure size 432x288 with 1 Axes>"
      ]
     },
     "metadata": {
      "needs_background": "light"
     },
     "output_type": "display_data"
    }
   ],
   "source": [
    "week = data['Week of Travel'].value_counts()\n",
    "weeknum = (list(week.index.sort_values(ascending = True)))\n",
    "for i in weeknum:\n",
    "    plt.figure()\n",
    "    week = data[data['Week of Travel'] == i]\n",
    "    ax = week['Company'].value_counts().plot(kind = 'bar')\n",
    "    ax.set_title(f\"week num : {i}\")\n",
    "    ax.set_xlabel(\"Company\")\n",
    "    ax.bar_label(ax.containers[0], label_type = \"center\")"
   ]
  },
  {
   "cell_type": "code",
   "execution_count": 228,
   "id": "7d44c584",
   "metadata": {},
   "outputs": [],
   "source": [
    "pink = data[data['Company'] == \"Pink Cab\"]\n",
    "yellow = data[data['Company'] == \"Yellow Cab\"]"
   ]
  },
  {
   "cell_type": "markdown",
   "id": "e1ad22e5",
   "metadata": {},
   "source": [
    "## Pink Cab"
   ]
  },
  {
   "cell_type": "code",
   "execution_count": 229,
   "id": "6c9ec397",
   "metadata": {},
   "outputs": [
    {
     "data": {
      "text/html": [
       "<div>\n",
       "<style scoped>\n",
       "    .dataframe tbody tr th:only-of-type {\n",
       "        vertical-align: middle;\n",
       "    }\n",
       "\n",
       "    .dataframe tbody tr th {\n",
       "        vertical-align: top;\n",
       "    }\n",
       "\n",
       "    .dataframe thead th {\n",
       "        text-align: right;\n",
       "    }\n",
       "</style>\n",
       "<table border=\"1\" class=\"dataframe\">\n",
       "  <thead>\n",
       "    <tr style=\"text-align: right;\">\n",
       "      <th></th>\n",
       "      <th>Customer ID</th>\n",
       "      <th>Customer_gender</th>\n",
       "      <th>Customer_age</th>\n",
       "      <th>Income (USD/Month)</th>\n",
       "      <th>Transaction ID</th>\n",
       "      <th>Payment_Mode</th>\n",
       "      <th>Company</th>\n",
       "      <th>City</th>\n",
       "      <th>KM Travelled</th>\n",
       "      <th>Price Charged</th>\n",
       "      <th>Cost of Trip</th>\n",
       "      <th>City_population</th>\n",
       "      <th>Users in City</th>\n",
       "      <th>month</th>\n",
       "      <th>Year</th>\n",
       "      <th>Day</th>\n",
       "      <th>Week of Travel</th>\n",
       "      <th>Date</th>\n",
       "      <th>Cost/km</th>\n",
       "    </tr>\n",
       "  </thead>\n",
       "  <tbody>\n",
       "    <tr>\n",
       "      <th>0</th>\n",
       "      <td>29290</td>\n",
       "      <td>Male</td>\n",
       "      <td>28</td>\n",
       "      <td>10813</td>\n",
       "      <td>10000011</td>\n",
       "      <td>Card</td>\n",
       "      <td>Pink Cab</td>\n",
       "      <td>ATLANTA GA</td>\n",
       "      <td>30.45</td>\n",
       "      <td>370.95</td>\n",
       "      <td>313.635</td>\n",
       "      <td>814,885</td>\n",
       "      <td>24,701</td>\n",
       "      <td>January</td>\n",
       "      <td>2016</td>\n",
       "      <td>Friday</td>\n",
       "      <td>1</td>\n",
       "      <td>8</td>\n",
       "      <td>11.241133</td>\n",
       "    </tr>\n",
       "    <tr>\n",
       "      <th>1</th>\n",
       "      <td>27703</td>\n",
       "      <td>Male</td>\n",
       "      <td>27</td>\n",
       "      <td>9237</td>\n",
       "      <td>10000012</td>\n",
       "      <td>Card</td>\n",
       "      <td>Pink Cab</td>\n",
       "      <td>ATLANTA GA</td>\n",
       "      <td>28.62</td>\n",
       "      <td>358.52</td>\n",
       "      <td>334.854</td>\n",
       "      <td>814,885</td>\n",
       "      <td>24,701</td>\n",
       "      <td>January</td>\n",
       "      <td>2016</td>\n",
       "      <td>Wednesday</td>\n",
       "      <td>1</td>\n",
       "      <td>6</td>\n",
       "      <td>12.113452</td>\n",
       "    </tr>\n",
       "    <tr>\n",
       "      <th>2</th>\n",
       "      <td>28712</td>\n",
       "      <td>Male</td>\n",
       "      <td>53</td>\n",
       "      <td>11242</td>\n",
       "      <td>10000013</td>\n",
       "      <td>Cash</td>\n",
       "      <td>Pink Cab</td>\n",
       "      <td>ATLANTA GA</td>\n",
       "      <td>9.04</td>\n",
       "      <td>125.20</td>\n",
       "      <td>97.632</td>\n",
       "      <td>814,885</td>\n",
       "      <td>24,701</td>\n",
       "      <td>January</td>\n",
       "      <td>2016</td>\n",
       "      <td>Saturday</td>\n",
       "      <td>53</td>\n",
       "      <td>2</td>\n",
       "      <td>12.324779</td>\n",
       "    </tr>\n",
       "    <tr>\n",
       "      <th>3</th>\n",
       "      <td>28020</td>\n",
       "      <td>Male</td>\n",
       "      <td>23</td>\n",
       "      <td>23327</td>\n",
       "      <td>10000014</td>\n",
       "      <td>Cash</td>\n",
       "      <td>Pink Cab</td>\n",
       "      <td>ATLANTA GA</td>\n",
       "      <td>33.17</td>\n",
       "      <td>377.40</td>\n",
       "      <td>351.602</td>\n",
       "      <td>814,885</td>\n",
       "      <td>24,701</td>\n",
       "      <td>January</td>\n",
       "      <td>2016</td>\n",
       "      <td>Thursday</td>\n",
       "      <td>1</td>\n",
       "      <td>7</td>\n",
       "      <td>10.988875</td>\n",
       "    </tr>\n",
       "    <tr>\n",
       "      <th>4</th>\n",
       "      <td>27182</td>\n",
       "      <td>Male</td>\n",
       "      <td>33</td>\n",
       "      <td>8536</td>\n",
       "      <td>10000015</td>\n",
       "      <td>Card</td>\n",
       "      <td>Pink Cab</td>\n",
       "      <td>ATLANTA GA</td>\n",
       "      <td>8.73</td>\n",
       "      <td>114.62</td>\n",
       "      <td>97.776</td>\n",
       "      <td>814,885</td>\n",
       "      <td>24,701</td>\n",
       "      <td>January</td>\n",
       "      <td>2016</td>\n",
       "      <td>Sunday</td>\n",
       "      <td>53</td>\n",
       "      <td>3</td>\n",
       "      <td>12.164719</td>\n",
       "    </tr>\n",
       "  </tbody>\n",
       "</table>\n",
       "</div>"
      ],
      "text/plain": [
       "   Customer ID Customer_gender  Customer_age  Income (USD/Month)  \\\n",
       "0        29290            Male            28               10813   \n",
       "1        27703            Male            27                9237   \n",
       "2        28712            Male            53               11242   \n",
       "3        28020            Male            23               23327   \n",
       "4        27182            Male            33                8536   \n",
       "\n",
       "   Transaction ID Payment_Mode   Company        City  KM Travelled  \\\n",
       "0        10000011         Card  Pink Cab  ATLANTA GA         30.45   \n",
       "1        10000012         Card  Pink Cab  ATLANTA GA         28.62   \n",
       "2        10000013         Cash  Pink Cab  ATLANTA GA          9.04   \n",
       "3        10000014         Cash  Pink Cab  ATLANTA GA         33.17   \n",
       "4        10000015         Card  Pink Cab  ATLANTA GA          8.73   \n",
       "\n",
       "   Price Charged  Cost of Trip City_population Users in City    month  Year  \\\n",
       "0         370.95       313.635        814,885        24,701   January  2016   \n",
       "1         358.52       334.854        814,885        24,701   January  2016   \n",
       "2         125.20        97.632        814,885        24,701   January  2016   \n",
       "3         377.40       351.602        814,885        24,701   January  2016   \n",
       "4         114.62        97.776        814,885        24,701   January  2016   \n",
       "\n",
       "         Day  Week of Travel  Date    Cost/km  \n",
       "0     Friday               1     8  11.241133  \n",
       "1  Wednesday               1     6  12.113452  \n",
       "2   Saturday              53     2  12.324779  \n",
       "3   Thursday               1     7  10.988875  \n",
       "4     Sunday              53     3  12.164719  "
      ]
     },
     "execution_count": 229,
     "metadata": {},
     "output_type": "execute_result"
    }
   ],
   "source": [
    "pink.head()"
   ]
  },
  {
   "cell_type": "code",
   "execution_count": 230,
   "id": "24911449",
   "metadata": {},
   "outputs": [
    {
     "data": {
      "text/plain": [
       "LOS ANGELES CA    104\n",
       "CHICAGO IL         60\n",
       "SAN DIEGO CA       58\n",
       "NEW YORK NY        52\n",
       "SEATTLE WA         31\n",
       "Name: City, dtype: int64"
      ]
     },
     "execution_count": 230,
     "metadata": {},
     "output_type": "execute_result"
    }
   ],
   "source": [
    "p_city = pink.City.value_counts().head()\n",
    "p_city"
   ]
  },
  {
   "cell_type": "code",
   "execution_count": 231,
   "id": "2cdec4cd",
   "metadata": {},
   "outputs": [
    {
     "data": {
      "image/png": "[encoded data removed]",
      "text/plain": [
       "<Figure size 864x432 with 1 Axes>"
      ]
     },
     "metadata": {},
     "output_type": "display_data"
    }
   ],
   "source": [
    "plt.figure(figsize = (12,6))\n",
    "exp = [0,0,0.5,0,0]\n",
    "colors = ['#ff9999','#66b3ff','#99ff99','#ffcc99','#c2c2f0']\n",
    "plt.pie(p_city, labels = p_city.index, autopct='%.0f%%', shadow = True, explode = exp, colors = colors);"
   ]
  },
  {
   "cell_type": "code",
   "execution_count": 232,
   "id": "50e84e32",
   "metadata": {},
   "outputs": [
    {
     "data": {
      "image/png": "[encoded data removed]",
      "text/plain": [
       "<Figure size 864x432 with 1 Axes>"
      ]
     },
     "metadata": {
      "needs_background": "light"
     },
     "output_type": "display_data"
    }
   ],
   "source": [
    "plt.figure(figsize = (12,6))\n",
    "ax = pink['Day'].hist(bins = 7)\n",
    "ax.set_xlabel(\"Days Of Week\")\n",
    "ax.set_ylabel(\"Frequency Of Days\")\n",
    "ax.bar_label(ax.containers[0], label_type = \"center\");"
   ]
  },
  {
   "cell_type": "code",
   "execution_count": 233,
   "id": "841f0b40",
   "metadata": {},
   "outputs": [
    {
     "name": "stdout",
     "output_type": "stream",
     "text": [
      "Average Age of People using Cabs : 35.519823788546255\n",
      "\n",
      "Average Cost of Trip : 246.41940088105733\n",
      "\n",
      "Averge KM travelled : 22.37022026431719\n",
      "\n"
     ]
    }
   ],
   "source": [
    "## Pink Cab :\n",
    "\n",
    "print(f\"Average Age of People using Cabs : {pink['Customer_age'].mean()}\\n\")\n",
    "print(f\"Average Cost of Trip : {pink['Cost of Trip'].mean()}\\n\")\n",
    "print(f\"Averge KM travelled : {pink['KM Travelled'].mean()}\\n\")"
   ]
  },
  {
   "cell_type": "code",
   "execution_count": 234,
   "id": "9b2d64b5",
   "metadata": {},
   "outputs": [
    {
     "data": {
      "text/html": [
       "<div>\n",
       "<style scoped>\n",
       "    .dataframe tbody tr th:only-of-type {\n",
       "        vertical-align: middle;\n",
       "    }\n",
       "\n",
       "    .dataframe tbody tr th {\n",
       "        vertical-align: top;\n",
       "    }\n",
       "\n",
       "    .dataframe thead th {\n",
       "        text-align: right;\n",
       "    }\n",
       "</style>\n",
       "<table border=\"1\" class=\"dataframe\">\n",
       "  <thead>\n",
       "    <tr style=\"text-align: right;\">\n",
       "      <th></th>\n",
       "      <th>Customer ID</th>\n",
       "      <th>Customer_age</th>\n",
       "      <th>Income (USD/Month)</th>\n",
       "      <th>Transaction ID</th>\n",
       "      <th>KM Travelled</th>\n",
       "      <th>Price Charged</th>\n",
       "      <th>Cost of Trip</th>\n",
       "      <th>Year</th>\n",
       "      <th>Week of Travel</th>\n",
       "      <th>Date</th>\n",
       "      <th>Cost/km</th>\n",
       "    </tr>\n",
       "  </thead>\n",
       "  <tbody>\n",
       "    <tr>\n",
       "      <th>count</th>\n",
       "      <td>454.000000</td>\n",
       "      <td>454.000000</td>\n",
       "      <td>454.000000</td>\n",
       "      <td>4.540000e+02</td>\n",
       "      <td>454.000000</td>\n",
       "      <td>454.000000</td>\n",
       "      <td>454.000000</td>\n",
       "      <td>454.0</td>\n",
       "      <td>454.000000</td>\n",
       "      <td>454.000000</td>\n",
       "      <td>454.000000</td>\n",
       "    </tr>\n",
       "    <tr>\n",
       "      <th>mean</th>\n",
       "      <td>19606.832599</td>\n",
       "      <td>35.519824</td>\n",
       "      <td>15238.484581</td>\n",
       "      <td>1.000082e+07</td>\n",
       "      <td>22.370220</td>\n",
       "      <td>342.513018</td>\n",
       "      <td>246.419401</td>\n",
       "      <td>2016.0</td>\n",
       "      <td>12.041850</td>\n",
       "      <td>9.385463</td>\n",
       "      <td>13.012813</td>\n",
       "    </tr>\n",
       "    <tr>\n",
       "      <th>std</th>\n",
       "      <td>17855.813521</td>\n",
       "      <td>12.730638</td>\n",
       "      <td>8160.371820</td>\n",
       "      <td>6.951875e+02</td>\n",
       "      <td>12.195898</td>\n",
       "      <td>218.762244</td>\n",
       "      <td>135.487597</td>\n",
       "      <td>0.0</td>\n",
       "      <td>20.818368</td>\n",
       "      <td>4.725476</td>\n",
       "      <td>1.861674</td>\n",
       "    </tr>\n",
       "    <tr>\n",
       "      <th>min</th>\n",
       "      <td>8.000000</td>\n",
       "      <td>18.000000</td>\n",
       "      <td>2035.000000</td>\n",
       "      <td>1.000001e+07</td>\n",
       "      <td>1.900000</td>\n",
       "      <td>22.200000</td>\n",
       "      <td>19.380000</td>\n",
       "      <td>2016.0</td>\n",
       "      <td>1.000000</td>\n",
       "      <td>2.000000</td>\n",
       "      <td>8.698980</td>\n",
       "    </tr>\n",
       "    <tr>\n",
       "      <th>25%</th>\n",
       "      <td>6047.750000</td>\n",
       "      <td>25.000000</td>\n",
       "      <td>8060.500000</td>\n",
       "      <td>1.000012e+07</td>\n",
       "      <td>11.820000</td>\n",
       "      <td>164.530000</td>\n",
       "      <td>127.098000</td>\n",
       "      <td>2016.0</td>\n",
       "      <td>1.000000</td>\n",
       "      <td>6.000000</td>\n",
       "      <td>11.857409</td>\n",
       "    </tr>\n",
       "    <tr>\n",
       "      <th>50%</th>\n",
       "      <td>12615.500000</td>\n",
       "      <td>33.000000</td>\n",
       "      <td>15168.500000</td>\n",
       "      <td>1.000038e+07</td>\n",
       "      <td>22.310000</td>\n",
       "      <td>308.150000</td>\n",
       "      <td>244.074000</td>\n",
       "      <td>2016.0</td>\n",
       "      <td>2.000000</td>\n",
       "      <td>9.000000</td>\n",
       "      <td>12.990769</td>\n",
       "    </tr>\n",
       "    <tr>\n",
       "      <th>75%</th>\n",
       "      <td>29710.250000</td>\n",
       "      <td>42.000000</td>\n",
       "      <td>21392.000000</td>\n",
       "      <td>1.000149e+07</td>\n",
       "      <td>31.987500</td>\n",
       "      <td>498.057500</td>\n",
       "      <td>350.361000</td>\n",
       "      <td>2016.0</td>\n",
       "      <td>2.000000</td>\n",
       "      <td>13.000000</td>\n",
       "      <td>14.160590</td>\n",
       "    </tr>\n",
       "    <tr>\n",
       "      <th>max</th>\n",
       "      <td>59804.000000</td>\n",
       "      <td>65.000000</td>\n",
       "      <td>34936.000000</td>\n",
       "      <td>1.000175e+07</td>\n",
       "      <td>47.600000</td>\n",
       "      <td>1022.590000</td>\n",
       "      <td>542.800000</td>\n",
       "      <td>2016.0</td>\n",
       "      <td>53.000000</td>\n",
       "      <td>19.000000</td>\n",
       "      <td>17.470284</td>\n",
       "    </tr>\n",
       "  </tbody>\n",
       "</table>\n",
       "</div>"
      ],
      "text/plain": [
       "        Customer ID  Customer_age  Income (USD/Month)  Transaction ID  \\\n",
       "count    454.000000    454.000000          454.000000    4.540000e+02   \n",
       "mean   19606.832599     35.519824        15238.484581    1.000082e+07   \n",
       "std    17855.813521     12.730638         8160.371820    6.951875e+02   \n",
       "min        8.000000     18.000000         2035.000000    1.000001e+07   \n",
       "25%     6047.750000     25.000000         8060.500000    1.000012e+07   \n",
       "50%    12615.500000     33.000000        15168.500000    1.000038e+07   \n",
       "75%    29710.250000     42.000000        21392.000000    1.000149e+07   \n",
       "max    59804.000000     65.000000        34936.000000    1.000175e+07   \n",
       "\n",
       "       KM Travelled  Price Charged  Cost of Trip    Year  Week of Travel  \\\n",
       "count    454.000000     454.000000    454.000000   454.0      454.000000   \n",
       "mean      22.370220     342.513018    246.419401  2016.0       12.041850   \n",
       "std       12.195898     218.762244    135.487597     0.0       20.818368   \n",
       "min        1.900000      22.200000     19.380000  2016.0        1.000000   \n",
       "25%       11.820000     164.530000    127.098000  2016.0        1.000000   \n",
       "50%       22.310000     308.150000    244.074000  2016.0        2.000000   \n",
       "75%       31.987500     498.057500    350.361000  2016.0        2.000000   \n",
       "max       47.600000    1022.590000    542.800000  2016.0       53.000000   \n",
       "\n",
       "             Date     Cost/km  \n",
       "count  454.000000  454.000000  \n",
       "mean     9.385463   13.012813  \n",
       "std      4.725476    1.861674  \n",
       "min      2.000000    8.698980  \n",
       "25%      6.000000   11.857409  \n",
       "50%      9.000000   12.990769  \n",
       "75%     13.000000   14.160590  \n",
       "max     19.000000   17.470284  "
      ]
     },
     "execution_count": 234,
     "metadata": {},
     "output_type": "execute_result"
    }
   ],
   "source": [
    "pink.describe()"
   ]
  },
  {
   "cell_type": "markdown",
   "id": "f43b4614",
   "metadata": {},
   "source": [
    "## Yellow cab :"
   ]
  },
  {
   "cell_type": "code",
   "execution_count": 235,
   "id": "4ed3aef4",
   "metadata": {},
   "outputs": [
    {
     "data": {
      "text/html": [
       "<div>\n",
       "<style scoped>\n",
       "    .dataframe tbody tr th:only-of-type {\n",
       "        vertical-align: middle;\n",
       "    }\n",
       "\n",
       "    .dataframe tbody tr th {\n",
       "        vertical-align: top;\n",
       "    }\n",
       "\n",
       "    .dataframe thead th {\n",
       "        text-align: right;\n",
       "    }\n",
       "</style>\n",
       "<table border=\"1\" class=\"dataframe\">\n",
       "  <thead>\n",
       "    <tr style=\"text-align: right;\">\n",
       "      <th></th>\n",
       "      <th>Customer ID</th>\n",
       "      <th>Customer_gender</th>\n",
       "      <th>Customer_age</th>\n",
       "      <th>Income (USD/Month)</th>\n",
       "      <th>Transaction ID</th>\n",
       "      <th>Payment_Mode</th>\n",
       "      <th>Company</th>\n",
       "      <th>City</th>\n",
       "      <th>KM Travelled</th>\n",
       "      <th>Price Charged</th>\n",
       "      <th>Cost of Trip</th>\n",
       "      <th>City_population</th>\n",
       "      <th>Users in City</th>\n",
       "      <th>month</th>\n",
       "      <th>Year</th>\n",
       "      <th>Day</th>\n",
       "      <th>Week of Travel</th>\n",
       "      <th>Date</th>\n",
       "      <th>Cost/km</th>\n",
       "    </tr>\n",
       "  </thead>\n",
       "  <tbody>\n",
       "    <tr>\n",
       "      <th>6</th>\n",
       "      <td>27602</td>\n",
       "      <td>Male</td>\n",
       "      <td>23</td>\n",
       "      <td>8542</td>\n",
       "      <td>10000384</td>\n",
       "      <td>Card</td>\n",
       "      <td>Yellow Cab</td>\n",
       "      <td>ATLANTA GA</td>\n",
       "      <td>33.93</td>\n",
       "      <td>1341.17</td>\n",
       "      <td>464.1624</td>\n",
       "      <td>814,885</td>\n",
       "      <td>24,701</td>\n",
       "      <td>January</td>\n",
       "      <td>2016</td>\n",
       "      <td>Saturday</td>\n",
       "      <td>53</td>\n",
       "      <td>2</td>\n",
       "      <td>26.603778</td>\n",
       "    </tr>\n",
       "    <tr>\n",
       "      <th>7</th>\n",
       "      <td>27594</td>\n",
       "      <td>Male</td>\n",
       "      <td>28</td>\n",
       "      <td>3901</td>\n",
       "      <td>10000385</td>\n",
       "      <td>Cash</td>\n",
       "      <td>Yellow Cab</td>\n",
       "      <td>ATLANTA GA</td>\n",
       "      <td>42.18</td>\n",
       "      <td>1412.06</td>\n",
       "      <td>516.2832</td>\n",
       "      <td>814,885</td>\n",
       "      <td>24,701</td>\n",
       "      <td>January</td>\n",
       "      <td>2016</td>\n",
       "      <td>Saturday</td>\n",
       "      <td>1</td>\n",
       "      <td>9</td>\n",
       "      <td>22.858502</td>\n",
       "    </tr>\n",
       "    <tr>\n",
       "      <th>8</th>\n",
       "      <td>27884</td>\n",
       "      <td>Male</td>\n",
       "      <td>32</td>\n",
       "      <td>13505</td>\n",
       "      <td>10000386</td>\n",
       "      <td>Cash</td>\n",
       "      <td>Yellow Cab</td>\n",
       "      <td>ATLANTA GA</td>\n",
       "      <td>10.60</td>\n",
       "      <td>364.62</td>\n",
       "      <td>132.2880</td>\n",
       "      <td>814,885</td>\n",
       "      <td>24,701</td>\n",
       "      <td>January</td>\n",
       "      <td>2016</td>\n",
       "      <td>Sunday</td>\n",
       "      <td>53</td>\n",
       "      <td>3</td>\n",
       "      <td>23.439057</td>\n",
       "    </tr>\n",
       "    <tr>\n",
       "      <th>9</th>\n",
       "      <td>28533</td>\n",
       "      <td>Male</td>\n",
       "      <td>39</td>\n",
       "      <td>28386</td>\n",
       "      <td>10000387</td>\n",
       "      <td>Cash</td>\n",
       "      <td>Yellow Cab</td>\n",
       "      <td>ATLANTA GA</td>\n",
       "      <td>26.75</td>\n",
       "      <td>838.00</td>\n",
       "      <td>333.8400</td>\n",
       "      <td>814,885</td>\n",
       "      <td>24,701</td>\n",
       "      <td>January</td>\n",
       "      <td>2016</td>\n",
       "      <td>Wednesday</td>\n",
       "      <td>1</td>\n",
       "      <td>6</td>\n",
       "      <td>21.903551</td>\n",
       "    </tr>\n",
       "    <tr>\n",
       "      <th>10</th>\n",
       "      <td>29039</td>\n",
       "      <td>Male</td>\n",
       "      <td>35</td>\n",
       "      <td>17761</td>\n",
       "      <td>10000388</td>\n",
       "      <td>Card</td>\n",
       "      <td>Yellow Cab</td>\n",
       "      <td>ATLANTA GA</td>\n",
       "      <td>46.02</td>\n",
       "      <td>1540.61</td>\n",
       "      <td>596.4192</td>\n",
       "      <td>814,885</td>\n",
       "      <td>24,701</td>\n",
       "      <td>January</td>\n",
       "      <td>2016</td>\n",
       "      <td>Thursday</td>\n",
       "      <td>1</td>\n",
       "      <td>7</td>\n",
       "      <td>23.218483</td>\n",
       "    </tr>\n",
       "  </tbody>\n",
       "</table>\n",
       "</div>"
      ],
      "text/plain": [
       "    Customer ID Customer_gender  Customer_age  Income (USD/Month)  \\\n",
       "6         27602            Male            23                8542   \n",
       "7         27594            Male            28                3901   \n",
       "8         27884            Male            32               13505   \n",
       "9         28533            Male            39               28386   \n",
       "10        29039            Male            35               17761   \n",
       "\n",
       "    Transaction ID Payment_Mode     Company        City  KM Travelled  \\\n",
       "6         10000384         Card  Yellow Cab  ATLANTA GA         33.93   \n",
       "7         10000385         Cash  Yellow Cab  ATLANTA GA         42.18   \n",
       "8         10000386         Cash  Yellow Cab  ATLANTA GA         10.60   \n",
       "9         10000387         Cash  Yellow Cab  ATLANTA GA         26.75   \n",
       "10        10000388         Card  Yellow Cab  ATLANTA GA         46.02   \n",
       "\n",
       "    Price Charged  Cost of Trip City_population Users in City    month  Year  \\\n",
       "6         1341.17      464.1624        814,885        24,701   January  2016   \n",
       "7         1412.06      516.2832        814,885        24,701   January  2016   \n",
       "8          364.62      132.2880        814,885        24,701   January  2016   \n",
       "9          838.00      333.8400        814,885        24,701   January  2016   \n",
       "10        1540.61      596.4192        814,885        24,701   January  2016   \n",
       "\n",
       "          Day  Week of Travel  Date    Cost/km  \n",
       "6    Saturday              53     2  26.603778  \n",
       "7    Saturday               1     9  22.858502  \n",
       "8      Sunday              53     3  23.439057  \n",
       "9   Wednesday               1     6  21.903551  \n",
       "10   Thursday               1     7  23.218483  "
      ]
     },
     "execution_count": 235,
     "metadata": {},
     "output_type": "execute_result"
    }
   ],
   "source": [
    "yellow.head()"
   ]
  },
  {
   "cell_type": "code",
   "execution_count": 236,
   "id": "0f40c22a",
   "metadata": {},
   "outputs": [
    {
     "data": {
      "text/plain": [
       "CHICAGO IL        358\n",
       "NEW YORK NY       201\n",
       "WASHINGTON DC     128\n",
       "BOSTON MA         116\n",
       "LOS ANGELES CA    108\n",
       "Name: City, dtype: int64"
      ]
     },
     "execution_count": 236,
     "metadata": {},
     "output_type": "execute_result"
    }
   ],
   "source": [
    "y_city = yellow.City.value_counts().head()\n",
    "y_city"
   ]
  },
  {
   "cell_type": "code",
   "execution_count": 237,
   "id": "6f391657",
   "metadata": {},
   "outputs": [
    {
     "data": {
      "image/png": "[encoded data removed]",
      "text/plain": [
       "<Figure size 864x432 with 1 Axes>"
      ]
     },
     "metadata": {},
     "output_type": "display_data"
    }
   ],
   "source": [
    "plt.figure(figsize = (12,6))\n",
    "exp = [0,0.5,0,0,0]\n",
    "colors = ['#ff9999','#66b3ff','#99ff99','#ffcc99','#c2c2f0']\n",
    "plt.pie(y_city, labels = y_city.index, autopct='%.0f%%', shadow = True, explode = exp, colors = colors);"
   ]
  },
  {
   "cell_type": "code",
   "execution_count": 238,
   "id": "8f910a62",
   "metadata": {},
   "outputs": [
    {
     "data": {
      "image/png": "[encoded data removed]",
      "text/plain": [
       "<Figure size 864x432 with 1 Axes>"
      ]
     },
     "metadata": {
      "needs_background": "light"
     },
     "output_type": "display_data"
    }
   ],
   "source": [
    "plt.figure(figsize = (12,6))\n",
    "ax = yellow['Day'].hist(bins = 7)\n",
    "ax.set_xlabel(\"Days Of Week\")\n",
    "ax.set_ylabel(\"Frequency Of Days\")\n",
    "ax.bar_label(ax.containers[0], label_type = \"center\");"
   ]
  },
  {
   "cell_type": "code",
   "execution_count": 240,
   "id": "4424751c",
   "metadata": {},
   "outputs": [
    {
     "data": {
      "image/png": "[encoded data removed]",
      "text/plain": [
       "<Figure size 1440x288 with 1 Axes>"
      ]
     },
     "metadata": {
      "needs_background": "light"
     },
     "output_type": "display_data"
    }
   ],
   "source": [
    "plt.figure(figsize = (20,4))\n",
    "ax = pink.groupby(['Date'])['Customer ID'].count().plot()\n",
    "yellow.groupby(['Date'])['Customer ID'].count().plot( ax = ax)\n",
    "plt.xticks(data['Date'].value_counts().index)\n",
    "plt.legend([\"Pink Cab\", \"Yellow Cab\"])\n",
    "ax.set_ylabel(\"Count\")\n",
    "ax.set_title(\"Frequency Trend\");"
   ]
  },
  {
   "cell_type": "code",
   "execution_count": null,
   "id": "e57ae4d5",
   "metadata": {},
   "outputs": [],
   "source": [
    "## Yellow cab has the most frequency than the Pink cab."
   ]
  },
  {
   "cell_type": "code",
   "execution_count": 241,
   "id": "6beb0ca5",
   "metadata": {},
   "outputs": [
    {
     "data": {
      "image/png": "[encoded data removed]",
      "text/plain": [
       "<Figure size 1440x288 with 1 Axes>"
      ]
     },
     "metadata": {
      "needs_background": "light"
     },
     "output_type": "display_data"
    }
   ],
   "source": [
    "plt.figure(figsize = (20,4))\n",
    "ax = pink.groupby(['Date'])['Cost/km'].mean().plot()\n",
    "yellow.groupby(['Date'])['Cost/km'].mean().plot( ax = ax)\n",
    "plt.xticks(data['Date'].value_counts().index)\n",
    "plt.legend([\"Pink Cab\", \"Yellow Cab\"])\n",
    "ax.set_ylabel(\"Count\")\n",
    "ax.set_title(\"Frequency Trend\");"
   ]
  },
  {
   "cell_type": "code",
   "execution_count": null,
   "id": "c04248c5",
   "metadata": {},
   "outputs": [],
   "source": [
    "## Price of Yellow cab is higher than the price pink cab."
   ]
  },
  {
   "cell_type": "markdown",
   "id": "8c9fe816",
   "metadata": {},
   "source": [
    "## Statistical analysis :"
   ]
  },
  {
   "cell_type": "code",
   "execution_count": 245,
   "id": "5dffc4b6",
   "metadata": {},
   "outputs": [
    {
     "name": "stdout",
     "output_type": "stream",
     "text": [
      "Not a Normal Distribution\n"
     ]
    }
   ],
   "source": [
    "from scipy.stats import shapiro\n",
    "from scipy import stats\n",
    "\n",
    "## For whole data :\n",
    "DataToTest = data['Cost/km']\n",
    "stat, p = shapiro(DataToTest)\n",
    "\n",
    "if p > 0.5:\n",
    "    print(\"Normal Distribution\")\n",
    "else:\n",
    "    print('Not a Normal Distribution')"
   ]
  },
  {
   "cell_type": "code",
   "execution_count": 243,
   "id": "b40c2b84",
   "metadata": {},
   "outputs": [
    {
     "name": "stdout",
     "output_type": "stream",
     "text": [
      "Not a Normal Distribution\n"
     ]
    }
   ],
   "source": [
    "## For pink cab\n",
    "DataToTest = pink['Cost/km']\n",
    "stat, p = shapiro(DataToTest)\n",
    "\n",
    "if p > 0.5:\n",
    "    print(\"Normal Distribution\")\n",
    "else:\n",
    "    print('Not a Normal Distribution')"
   ]
  },
  {
   "cell_type": "code",
   "execution_count": 244,
   "id": "a6e3c5bf",
   "metadata": {},
   "outputs": [
    {
     "name": "stdout",
     "output_type": "stream",
     "text": [
      "Not a Normal Distribution\n"
     ]
    }
   ],
   "source": [
    "## For yellow cab :\n",
    "DataToTest = yellow['Cost/km']\n",
    "stat, p = shapiro(DataToTest)\n",
    "\n",
    "if p > 0.5:\n",
    "    print(\"Normal Distribution\")\n",
    "else:\n",
    "    print('Not a Normal Distribution')"
   ]
  },
  {
   "cell_type": "code",
   "execution_count": 246,
   "id": "18a19c69",
   "metadata": {},
   "outputs": [
    {
     "data": {
      "text/plain": [
       "ShapiroResult(statistic=0.9767647981643677, pvalue=2.6123283224099847e-12)"
      ]
     },
     "execution_count": 246,
     "metadata": {},
     "output_type": "execute_result"
    }
   ],
   "source": [
    "## z score test :\n",
    "p_cost = pink['Cost/km']\n",
    "y_cost = yellow['Cost/km']\n",
    "\n",
    "stats.levene(p_cost, y_cost)\n",
    "# Shapiro-Wilk test for normality\n",
    "stats.shapiro(p_cost)\n",
    "stats.shapiro(y_cost)"
   ]
  },
  {
   "cell_type": "code",
   "execution_count": 251,
   "id": "b86e19cc",
   "metadata": {},
   "outputs": [
    {
     "name": "stdout",
     "output_type": "stream",
     "text": [
      "Reject the null hypothesis\n"
     ]
    }
   ],
   "source": [
    "pvalue = 2.6123283224099847e-12\n",
    "a = 0.5\n",
    "if p > a:\n",
    "    print(\"Accept the null hypothesis\")\n",
    "else:\n",
    "    print(\"Reject the null hypothesis\")"
   ]
  },
  {
   "cell_type": "code",
   "execution_count": null,
   "id": "60798f0c",
   "metadata": {},
   "outputs": [],
   "source": []
  },
  {
   "cell_type": "code",
   "execution_count": null,
   "id": "192bf821",
   "metadata": {},
   "outputs": [],
   "source": []
  },
  {
   "cell_type": "code",
   "execution_count": null,
   "id": "d132dc7f",
   "metadata": {},
   "outputs": [],
   "source": []
  },
  {
   "cell_type": "code",
   "execution_count": null,
   "id": "6408fbef",
   "metadata": {},
   "outputs": [],
   "source": []
  },
  {
   "cell_type": "code",
   "execution_count": null,
   "id": "c621d357",
   "metadata": {},
   "outputs": [],
   "source": []
  },
  {
   "cell_type": "code",
   "execution_count": null,
   "id": "8f30b38e",
   "metadata": {},
   "outputs": [],
   "source": []
  },
  {
   "cell_type": "code",
   "execution_count": null,
   "id": "37e6efa0",
   "metadata": {},
   "outputs": [],
   "source": []
  },
  {
   "cell_type": "code",
   "execution_count": null,
   "id": "ae92d8cb",
   "metadata": {},
   "outputs": [],
   "source": []
  },
  {
   "cell_type": "code",
   "execution_count": null,
   "id": "9530c4f6",
   "metadata": {},
   "outputs": [],
   "source": []
  },
  {
   "cell_type": "code",
   "execution_count": null,
   "id": "b537170a",
   "metadata": {},
   "outputs": [],
   "source": []
  },
  {
   "cell_type": "code",
   "execution_count": null,
   "id": "240b733f",
   "metadata": {},
   "outputs": [],
   "source": []
  },
  {
   "cell_type": "code",
   "execution_count": null,
   "id": "80757d24",
   "metadata": {},
   "outputs": [],
   "source": []
  },
  {
   "cell_type": "code",
   "execution_count": null,
   "id": "d31b9b28",
   "metadata": {},
   "outputs": [],
   "source": []
  },
  {
   "cell_type": "code",
   "execution_count": null,
   "id": "02ddcc6f",
   "metadata": {},
   "outputs": [],
   "source": []
  },
  {
   "cell_type": "code",
   "execution_count": null,
   "id": "fb38819b",
   "metadata": {},
   "outputs": [],
   "source": []
  }
 ],
 "metadata": {
  "kernelspec": {
   "display_name": "Python 3 (ipykernel)",
   "language": "python",
   "name": "python3"
  },
  "language_info": {
   "codemirror_mode": {
    "name": "ipython",
    "version": 3
   },
   "file_extension": ".py",
   "mimetype": "text/x-python",
   "name": "python",
   "nbconvert_exporter": "python",
   "pygments_lexer": "ipython3",
   "version": "3.9.12"
  }
 },
 "nbformat": 4,
 "nbformat_minor": 5
}
